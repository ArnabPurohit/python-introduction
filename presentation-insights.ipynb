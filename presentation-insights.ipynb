{
 "cells": [
  {
   "cell_type": "markdown",
   "metadata": {
    "slideshow": {
     "slide_type": "slide"
    }
   },
   "source": [
    "# Introduction to Python\n",
    "\n",
    "## Graeme Stewart, EP-SFT\n",
    "\n",
    "INSIGHTS Workshop, 2018-09-17\n",
    "\n",
    "<img style=\"float: right;\" src=\"images/LogoOutline-Blue-03.png\">\n"
   ]
  },
  {
   "cell_type": "markdown",
   "metadata": {
    "slideshow": {
     "slide_type": "slide"
    }
   },
   "source": [
    "# What is Python?"
   ]
  },
  {
   "cell_type": "markdown",
   "metadata": {
    "slideshow": {
     "slide_type": "fragment"
    }
   },
   "source": [
    "* Python is an open-source high-level interpreted language\n",
    "* It's an easy language\n",
    "  * Easy to code in, with many useful modules\n",
    "  * Easy to read\n",
    "* It's object oriented\n",
    "* It's portable and it's popular\n",
    "![Logo](images/python-logo.png)"
   ]
  },
  {
   "cell_type": "markdown",
   "metadata": {
    "slideshow": {
     "slide_type": "slide"
    }
   },
   "source": [
    "# Python Popularity\n",
    "\n",
    "![PYPL Language Popularity](images/python-pypl-popularity.png)"
   ]
  },
  {
   "cell_type": "markdown",
   "metadata": {
    "slideshow": {
     "slide_type": "subslide"
    }
   },
   "source": [
    "# Python Popularity\n",
    "\n",
    "![Google Trends in Data Science](images/python-r-cpp-googletrends-data.png)\n",
    "\n",
    "![Google Trends in Machine Learning](images/python-r-cpp-googletrends-machinelearning.png)\n",
    "\n",
    "(thanks to [Jim Pivarski](https://github.com/codas-hep/scientific-python-ecosystem))"
   ]
  },
  {
   "cell_type": "markdown",
   "metadata": {
    "slideshow": {
     "slide_type": "subslide"
    }
   },
   "source": [
    "# What's driving this?\n",
    "\n",
    "All of the deep learning libraries have a Python interface,\n",
    "in many cases the primary interface.\n",
    "\n",
    "![Python ML Interfaces](images/python-ml-interfaces.png)"
   ]
  },
  {
   "cell_type": "markdown",
   "metadata": {
    "slideshow": {
     "slide_type": "subslide"
    }
   },
   "source": [
    "![Python Ecosystem](images/python-ecosystem.png)\n",
    "\n",
    "Python has a very rich ecosystem of packags and plugins (taken from Jake VanderPlas, *The Unexpected Effectiveness of Python in Science* at PyCon 2017)"
   ]
  },
  {
   "cell_type": "markdown",
   "metadata": {
    "slideshow": {
     "slide_type": "slide"
    }
   },
   "source": [
    "# But wait, an interpreted language for (big) scientific data...?\n",
    "\n",
    "Isn't that crazy slow?"
   ]
  },
  {
   "cell_type": "markdown",
   "metadata": {
    "slideshow": {
     "slide_type": "fragment"
    }
   },
   "source": [
    "* Overall language run time speed is certainly something we care about\n",
    "  * But developer productivity is also important\n",
    "* Python is really often used as a **glue** between other pieces of code that are written to have very fast implementations\n",
    "  * e.g., underlying most Python high performance numerical code is [NumPy](https://www.numpy.org/)\n",
    "    * Essentially data layed out like C arrays, much more compact than normal Python objects\n",
    "    * Removes much of Python's runtime overheads, to run *really* fast (in many cases a lot faster than most of the obvious code implementations in C or C++)\n",
    "* Plus, there are a lot of other tricks that can help speed up Python where needed, e.g., [Cython](http://cython.org/) or [Numba](https://numba.pydata.org/)"
   ]
  },
  {
   "cell_type": "markdown",
   "metadata": {
    "slideshow": {
     "slide_type": "slide"
    }
   },
   "source": [
    "# Python - let's go!\n",
    "\n",
    "<img style=\"float: right;\" src=\"images/googles.jpg\">\n",
    "\n",
    "How do we get python going?"
   ]
  },
  {
   "cell_type": "markdown",
   "metadata": {
    "slideshow": {
     "slide_type": "fragment"
    }
   },
   "source": [
    "On most computers it should be simple - just execute `python`...\n",
    "\n",
    "```\n",
    "teal:~$ python\n",
    "Python 3.7.0 (default, Jun 29 2018, 20:13:13) \n",
    "[Clang 9.1.0 (clang-902.0.39.2)] on darwin\n",
    "Type \"help\", \"copyright\", \"credits\" or \"license\" for more information.\n",
    ">>> print(\"hello, world!\")\n",
    "hello, world!\n",
    ">>> \n",
    "```"
   ]
  },
  {
   "cell_type": "markdown",
   "metadata": {
    "slideshow": {
     "slide_type": "fragment"
    }
   },
   "source": [
    "Here we started python in its interpreter mode - we can then type commands and Python immdiately excutes them for us and gives the results (also called the *Read Evaluate Print Loop*, **REPL**)"
   ]
  },
  {
   "cell_type": "markdown",
   "metadata": {
    "slideshow": {
     "slide_type": "subslide"
    }
   },
   "source": [
    "# ipython - a better shell\n",
    "\n",
    "The normal `python` shell is fine, but there is a better option, the `ipython` shell:"
   ]
  },
  {
   "cell_type": "markdown",
   "metadata": {
    "slideshow": {
     "slide_type": "fragment"
    }
   },
   "source": [
    "```\n",
    "teal:~$ ipython\n",
    "Python 3.7.0 (default, Jun 29 2018, 20:13:13) \n",
    "Type 'copyright', 'credits' or 'license' for more information\n",
    "IPython 6.5.0 -- An enhanced Interactive Python. Type '?' for help.\n",
    "\n",
    "In [1]: print(\"hello, world!\")\n",
    "hello, world!\n",
    "```"
   ]
  },
  {
   "cell_type": "markdown",
   "metadata": {
    "slideshow": {
     "slide_type": "subslide"
    }
   },
   "source": [
    "# ipython \n",
    "\n",
    "What's great about `ipython`?\n",
    "\n",
    "* Getting help on anything with `?`\n",
    "* Jump to the code definitiion with `??`\n",
    "* `TAB` completion for modules and methods\n",
    "* Easy access to history of inputs and outputs (e.g., `_` is the output of the last command)\n",
    "* Keyboard shortcuts\n",
    "* Magic commands"
   ]
  },
  {
   "cell_type": "markdown",
   "metadata": {
    "slideshow": {
     "slide_type": "subslide"
    }
   },
   "source": [
    "# notebooks - ipython on steroids\n",
    "\n",
    "<img style=\"float: right;\" src=\"images/jupyter-logo-300.png\">\n",
    "\n",
    "Actually, the most useful and coolest way to run Python interactively is in a *Jupyter Notebook*.\n",
    "\n",
    "This is a web based \"shell\" for running Python interactively. I can do everything that `ipython` can do, but it can do a lot more as well:\n",
    "* Notebooks can be saved, preserving your work\n",
    "* Notebooks can be shared with others\n",
    "* Cells can contain markdown for better annotation of the code\n",
    "* Notebooks can run lots of languages (R, C++, ROOT)\n",
    "* Notebooks can be interfaces to much more powerful facilities (SWAN)\n",
    "\n",
    "See the backup slides for some getting started links for notebooks"
   ]
  },
  {
   "cell_type": "code",
   "execution_count": 6,
   "metadata": {},
   "outputs": [
    {
     "name": "stdout",
     "output_type": "stream",
     "text": [
      "hello, world!\n"
     ]
    }
   ],
   "source": [
    "print(\"hello, world!\")"
   ]
  },
  {
   "cell_type": "code",
   "execution_count": 4,
   "metadata": {
    "slideshow": {
     "slide_type": "slide"
    }
   },
   "outputs": [
    {
     "name": "stdout",
     "output_type": "stream",
     "text": [
      "my pants\n"
     ]
    }
   ],
   "source": [
    "import os\n",
    "dir(os)\n",
    "print(\"my pants\")"
   ]
  },
  {
   "cell_type": "code",
   "execution_count": 5,
   "metadata": {
    "slideshow": {
     "slide_type": "slide"
    }
   },
   "outputs": [
    {
     "name": "stdout",
     "output_type": "stream",
     "text": [
      "1.245 2.245\n",
      "hhh\n"
     ]
    }
   ],
   "source": [
    "a=1.245\n",
    "b=a+1\n",
    "print(a, b)\n",
    "print(\"hhh\")"
   ]
  },
  {
   "cell_type": "markdown",
   "metadata": {},
   "source": [
    "OK, so this is just a simple example of what we can do"
   ]
  },
  {
   "cell_type": "markdown",
   "metadata": {
    "slideshow": {
     "slide_type": "slide"
    }
   },
   "source": [
    "# Backup"
   ]
  },
  {
   "cell_type": "markdown",
   "metadata": {
    "slideshow": {
     "slide_type": "slide"
    }
   },
   "source": [
    "## Python2 and Python3\n",
    "\n",
    "* Python is currently finishing a major version transition, from 2 to 3\n",
    "  * Python2 support [stops quite soon](https://pythonclock.org/), on 1 January 2020\n",
    "* Almost every useful python standard module now runs in Python 3, so it's the recommended way to start any new project\n",
    "* Python 3...\n",
    "  * Introduces a new `print()` function instead of the old Python2 `print` *statement*\n",
    "  * Integer division (`3/2`) will return a float (use `3//2` if you want pure rounded int division)\n",
    "  * Strings in Python3 are all *unicode* and pure data should be stored in `bytes` or `bytearray`\n",
    "  * `range` becomes an iterator by default and there is no `xrange` (use `list(range(...))` to get a list if you need it)\n",
    "  * Exceptions are raised more consistently (`raise IOError(\"disk drive on fire\")`)\n",
    "    * And handled more easily using `as` (`except NameError as err`)\n",
    "  * Oh, and Python3 is often a lot faster as well\n",
    "* However... although Python3 is now the standard, in the HEP community we are a bit behind\n",
    "  * You may therefore find you have to use Python2 for some HEP usecases\n",
    "  * In which case you should definiately take a look at the `__future__` module that can allow you to write Python2 code using a lot of Python3 syntax in advance"
   ]
  },
  {
   "cell_type": "markdown",
   "metadata": {
    "slideshow": {
     "slide_type": "slide"
    }
   },
   "source": [
    "## Getting notebooks up and running\n",
    "\n",
    "We pointed out some of the great features of notebooks at the start, here are some pointers...\n",
    "\n",
    "* The [Project Jupyter website](https://jupyter.org/) (see [install](https://jupyter.org/install))\n",
    "\n",
    "The easy ways to install are through the Anaconda python distribution or using pip\n",
    "\n",
    "Then you can clone this lecture and start the notebook server...\n",
    "\n",
    "```\n",
    "git clone ...\n",
    "jupyter notebook\n",
    "[I 18:55:02.119 NotebookApp] Serving notebooks from local directory: /Users/graemes/docs\n",
    "[I 18:55:02.120 NotebookApp] The Jupyter Notebook is running at:\n",
    "[I 18:55:02.120 NotebookApp] http://localhost:8888/?token=bd9fb3599d7b4f7bf23a53efd8987cf3cc8dc1fe4d358eb6\n",
    "```\n",
    "\n",
    "...and navigate to the notebook link given (usually it starts automatically)"
   ]
  },
  {
   "cell_type": "code",
   "execution_count": null,
   "metadata": {},
   "outputs": [],
   "source": []
  }
 ],
 "metadata": {
  "celltoolbar": "Slideshow",
  "kernelspec": {
   "display_name": "Python 3",
   "language": "python",
   "name": "python3"
  },
  "language_info": {
   "codemirror_mode": {
    "name": "ipython",
    "version": 3
   },
   "file_extension": ".py",
   "mimetype": "text/x-python",
   "name": "python",
   "nbconvert_exporter": "python",
   "pygments_lexer": "ipython3",
   "version": "3.7.0"
  }
 },
 "nbformat": 4,
 "nbformat_minor": 2
}
