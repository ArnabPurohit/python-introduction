{
 "cells": [
  {
   "cell_type": "markdown",
   "metadata": {
    "slideshow": {
     "slide_type": "slide"
    }
   },
   "source": [
    "# Introduction to Python\n",
    "\n",
    "## Graeme Stewart, EP-SFT\n",
    "\n",
    "INSIGHTS Workshop, 2018-09-17\n",
    "\n",
    "<img style=\"float: right;\" src=\"images/LogoOutline-Blue-03.png\">\n",
    "\n",
    "[GitHub](https://github.com/graeme-a-stewart/python-introduction), [CC-BY-4.0](http://creativecommons.org/licenses/by/4.0/)"
   ]
  },
  {
   "cell_type": "markdown",
   "metadata": {
    "slideshow": {
     "slide_type": "slide"
    }
   },
   "source": [
    "# What is Python?"
   ]
  },
  {
   "cell_type": "markdown",
   "metadata": {
    "slideshow": {
     "slide_type": "fragment"
    }
   },
   "source": [
    "* Python is an open-source high-level interpreted language\n",
    "* It's an easy language\n",
    "  * Easy to code in, with many useful modules\n",
    "  * Easy to read\n",
    "* It's object oriented\n",
    "* It's dynamic\n",
    "* It's portable and it's popular\n",
    "![Logo](images/python-logo.png)"
   ]
  },
  {
   "cell_type": "markdown",
   "metadata": {
    "slideshow": {
     "slide_type": "slide"
    }
   },
   "source": [
    "# Python Popularity\n",
    "\n",
    "![PYPL Language Popularity](images/python-pypl-popularity.png)\n",
    "\n",
    "From [PopularitY of Programming Languages](https://pypl.github.io/PYPL.html)"
   ]
  },
  {
   "cell_type": "markdown",
   "metadata": {
    "slideshow": {
     "slide_type": "subslide"
    }
   },
   "source": [
    "# Python Popularity\n",
    "\n",
    "![Google Trends in Data Science](images/python-r-cpp-googletrends-data.png)\n",
    "\n",
    "![Google Trends in Machine Learning](images/python-r-cpp-googletrends-machinelearning.png)\n",
    "\n",
    "(thanks to [Jim Pivarski](https://github.com/codas-hep/scientific-python-ecosystem))"
   ]
  },
  {
   "cell_type": "markdown",
   "metadata": {
    "slideshow": {
     "slide_type": "subslide"
    }
   },
   "source": [
    "# What's driving this?\n",
    "\n",
    "All of the deep learning libraries have a Python interface,\n",
    "in many cases the primary interface.\n",
    "\n",
    "![Python ML Interfaces](images/python-ml-interfaces.png)"
   ]
  },
  {
   "cell_type": "markdown",
   "metadata": {
    "slideshow": {
     "slide_type": "subslide"
    }
   },
   "source": [
    "![Python Ecosystem](images/python-ecosystem.png)\n",
    "\n",
    "Python has a very rich ecosystem of packages and plugins (taken from Jake VanderPlas, [*The Unexpected Effectiveness of Python in Science*](https://speakerdeck.com/jakevdp/the-unexpected-effectiveness-of-python-in-science) at PyCon 2017)"
   ]
  },
  {
   "cell_type": "markdown",
   "metadata": {
    "slideshow": {
     "slide_type": "slide"
    }
   },
   "source": [
    "# But wait, an interpreted language for (big) scientific data...?\n",
    "\n",
    "Isn't that crazy slow?"
   ]
  },
  {
   "cell_type": "markdown",
   "metadata": {
    "slideshow": {
     "slide_type": "fragment"
    }
   },
   "source": [
    "* Overall language run time speed is certainly something we care about\n",
    "  * But developer productivity is also important\n",
    "* Python is really often used as a **glue** between other pieces of code that are written to have very fast implementations\n",
    "  * e.g., underlying most Python high performance numerical code is [NumPy](https://www.numpy.org/)\n",
    "    * Essentially data layed out like C arrays, much more compact than normal Python objects\n",
    "    * Removes much of Python's runtime overheads, to run *really* fast (in many cases a lot faster than a naive code implementations in C or C++)\n",
    "* Plus, there are a lot of other tricks that can help speed up Python where needed, e.g., [Cython](http://cython.org/) or [Numba](https://numba.pydata.org/)"
   ]
  },
  {
   "cell_type": "markdown",
   "metadata": {
    "slideshow": {
     "slide_type": "slide"
    }
   },
   "source": [
    "# Python - let's go!\n",
    "\n",
    "<img style=\"float: right;\" src=\"images/googles.jpg\">\n",
    "\n",
    "How do we get python going?"
   ]
  },
  {
   "cell_type": "markdown",
   "metadata": {
    "slideshow": {
     "slide_type": "fragment"
    }
   },
   "source": [
    "On most computers it should be simple - just execute `python`...\n",
    "\n",
    "```py\n",
    "teal:~$ python\n",
    "Python 3.6.5 |Anaconda, Inc.| (default, Apr 26 2018, 08:42:37) \n",
    "[GCC 4.2.1 Compatible Clang 4.0.1 (tags/RELEASE_401/final)] on darwin\n",
    "Type \"help\", \"copyright\", \"credits\" or \"license\" for more information.\n",
    ">>> print(\"hello, world!\")\n",
    "hello, world!\n",
    ">>>\n",
    "```"
   ]
  },
  {
   "cell_type": "markdown",
   "metadata": {
    "slideshow": {
     "slide_type": "fragment"
    }
   },
   "source": [
    "Here we started python in its interpreter mode - we can then type commands and Python immdiately excutes them for us and gives the results (also called the *Read Evaluate Print Loop*, **REPL**)"
   ]
  },
  {
   "cell_type": "markdown",
   "metadata": {
    "slideshow": {
     "slide_type": "subslide"
    }
   },
   "source": [
    "# ipython - a better shell\n",
    "\n",
    "The normal `python` shell is fine, but there is a better option, the `ipython` shell:"
   ]
  },
  {
   "cell_type": "markdown",
   "metadata": {
    "slideshow": {
     "slide_type": "fragment"
    }
   },
   "source": [
    "```py\n",
    "teal:~$ ipython\n",
    "Python 3.6.5 |Anaconda, Inc.| (default, Apr 26 2018, 08:42:37) \n",
    "Type 'copyright', 'credits' or 'license' for more information\n",
    "IPython 6.4.0 -- An enhanced Interactive Python. Type '?' for help.\n",
    "\n",
    "In [1]: print(\"hello, world!\")\n",
    "hello, world!\n",
    "```"
   ]
  },
  {
   "cell_type": "markdown",
   "metadata": {
    "slideshow": {
     "slide_type": "subslide"
    }
   },
   "source": [
    "# ipython \n",
    "\n",
    "What's great about `ipython`?\n",
    "\n",
    "* Getting help on anything with `?`\n",
    "  * Type `?` on it's own for some overview\n",
    "* Jump to the code definitiion with `??`\n",
    "* `TAB` completion for modules and methods\n",
    "* Easy access to history of inputs and outputs (e.g., `_` is the output of the last command)\n",
    "* Keyboard shortcuts\n",
    "* Run shell commands easily, using `!cmd`\n",
    "* Magic commands\n",
    "  * Try `%magic` for an overview"
   ]
  },
  {
   "cell_type": "markdown",
   "metadata": {
    "slideshow": {
     "slide_type": "subslide"
    }
   },
   "source": [
    "# notebooks - ipython on steroids\n",
    "\n",
    "<img style=\"float: right;\" src=\"images/jupyter-logo-300.png\">\n",
    "\n",
    "Actually, the most useful and coolest way to run Python interactively is in a [*Jupyter Notebook*](https://jupyter.org/).\n",
    "\n",
    "This is a web based \"shell\" for running Python interactively. I can do everything that `ipython` can do in a console, but it can do a lot more as well:\n",
    "* Notebooks can be saved, preserving your work\n",
    "* Notebooks can be shared with others\n",
    "* Cells can contain markdown for better annotation of the code\n",
    "* Notebooks can run lots of languages (R, C++, ROOT)\n",
    "* Notebooks can be interfaces to much more powerful facilities (SWAN)\n",
    "\n",
    "See the backup slides for some getting started links for notebooks\n",
    "\n",
    "(This entire [presentation](https://github.com/graeme-a-stewart/python-introduction) is written as a Jupyter notebook, using the [RISE extension](https://github.com/damianavila/RISE))"
   ]
  },
  {
   "cell_type": "markdown",
   "metadata": {
    "slideshow": {
     "slide_type": "slide"
    }
   },
   "source": [
    "# The nuts and bolts...\n",
    "\n",
    "<img style=\"float: right;\" src=\"images/nuts-and-bolts.jpg\">\n",
    "\n",
    "Like any other programming language, we need to have some understanding of the syntax of Python to be able to program in it. So let's look at some of the basic building blocks...\n"
   ]
  },
  {
   "cell_type": "markdown",
   "metadata": {
    "slideshow": {
     "slide_type": "fragment"
    }
   },
   "source": [
    "* Variables\n",
    "  * Numbers\n",
    "  * Strings\n",
    "* Compound objects\n",
    "  * Lists\n",
    "  * Dictionaries\n",
    "* Loops and Iterating\n",
    "* Control Flow\n",
    "* Functions"
   ]
  },
  {
   "cell_type": "markdown",
   "metadata": {
    "slideshow": {
     "slide_type": "slide"
    }
   },
   "source": [
    "# Variables"
   ]
  },
  {
   "cell_type": "markdown",
   "metadata": {
    "slideshow": {
     "slide_type": "slide"
    }
   },
   "source": [
    "## Numbers\n",
    "\n",
    "* There are two fundamental number types in Python, integers and floats.\n",
    "  * These behave pretty much as you expect"
   ]
  },
  {
   "cell_type": "code",
   "execution_count": 84,
   "metadata": {
    "slideshow": {
     "slide_type": "fragment"
    }
   },
   "outputs": [
    {
     "name": "stdout",
     "output_type": "stream",
     "text": [
      "My integer is 7 and my float is 9.0\n"
     ]
    }
   ],
   "source": [
    "i=7 \n",
    "f=9.0\n",
    "print(\"My integer is\", i, \"and my float is\", f)"
   ]
  },
  {
   "cell_type": "code",
   "execution_count": 85,
   "metadata": {
    "slideshow": {
     "slide_type": "-"
    }
   },
   "outputs": [
    {
     "name": "stdout",
     "output_type": "stream",
     "text": [
      "23\n"
     ]
    }
   ],
   "source": [
    "j=(i*3) + 2\n",
    "print(j)"
   ]
  },
  {
   "cell_type": "code",
   "execution_count": 86,
   "metadata": {
    "slideshow": {
     "slide_type": "-"
    }
   },
   "outputs": [
    {
     "name": "stdout",
     "output_type": "stream",
     "text": [
      "29.0\n"
     ]
    }
   ],
   "source": [
    "g=(f*3) + 2\n",
    "print(g)"
   ]
  },
  {
   "cell_type": "markdown",
   "metadata": {
    "slideshow": {
     "slide_type": "fragment"
    }
   },
   "source": [
    "* `int` is effectively unbounded (but for reasonable numbers it's the word size, usually 64bits)\n",
    "* `float` maps to the C-type `double`, i.e., a usually a 64 bit floating point type"
   ]
  },
  {
   "cell_type": "markdown",
   "metadata": {
    "slideshow": {
     "slide_type": "subslide"
    }
   },
   "source": [
    "## Operators\n",
    "\n",
    "All the normal arithmetic operators are available:"
   ]
  },
  {
   "cell_type": "code",
   "execution_count": 87,
   "metadata": {
    "slideshow": {
     "slide_type": "fragment"
    }
   },
   "outputs": [
    {
     "data": {
      "text/plain": [
       "6"
      ]
     },
     "execution_count": 87,
     "metadata": {},
     "output_type": "execute_result"
    }
   ],
   "source": [
    "i+2-3 # Addition and subtraction <- Look - we introduced you to the Python comment character here!"
   ]
  },
  {
   "cell_type": "code",
   "execution_count": 88,
   "metadata": {},
   "outputs": [
    {
     "data": {
      "text/plain": [
       "3.0"
      ]
     },
     "execution_count": 88,
     "metadata": {},
     "output_type": "execute_result"
    }
   ],
   "source": [
    "f*3.0/9.0 # Multiplication and division"
   ]
  },
  {
   "cell_type": "code",
   "execution_count": 89,
   "metadata": {},
   "outputs": [
    {
     "data": {
      "text/plain": [
       "3.5"
      ]
     },
     "execution_count": 89,
     "metadata": {},
     "output_type": "execute_result"
    }
   ],
   "source": [
    "i/2 # Note that integer division returns a float"
   ]
  },
  {
   "cell_type": "code",
   "execution_count": 90,
   "metadata": {},
   "outputs": [
    {
     "data": {
      "text/plain": [
       "3"
      ]
     },
     "execution_count": 90,
     "metadata": {},
     "output_type": "execute_result"
    }
   ],
   "source": [
    "i//2 # But the // operator does an integer divide"
   ]
  },
  {
   "cell_type": "code",
   "execution_count": 91,
   "metadata": {},
   "outputs": [
    {
     "data": {
      "text/plain": [
       "1"
      ]
     },
     "execution_count": 91,
     "metadata": {},
     "output_type": "execute_result"
    }
   ],
   "source": [
    "i % 2 # Remainder for integer division"
   ]
  },
  {
   "cell_type": "code",
   "execution_count": 92,
   "metadata": {},
   "outputs": [
    {
     "data": {
      "text/plain": [
       "729.0"
      ]
     },
     "execution_count": 92,
     "metadata": {},
     "output_type": "execute_result"
    }
   ],
   "source": [
    "f**3 # Power operator (also pow(f,3) works) "
   ]
  },
  {
   "cell_type": "markdown",
   "metadata": {
    "slideshow": {
     "slide_type": "subslide"
    }
   },
   "source": [
    "## Conversions and casts"
   ]
  },
  {
   "cell_type": "code",
   "execution_count": 93,
   "metadata": {
    "slideshow": {
     "slide_type": "fragment"
    }
   },
   "outputs": [
    {
     "data": {
      "text/plain": [
       "63.0"
      ]
     },
     "execution_count": 93,
     "metadata": {},
     "output_type": "execute_result"
    }
   ],
   "source": [
    "i*f # Mixed mode arithmetic \"upcasts\" to float"
   ]
  },
  {
   "cell_type": "code",
   "execution_count": 94,
   "metadata": {},
   "outputs": [
    {
     "data": {
      "text/plain": [
       "63"
      ]
     },
     "execution_count": 94,
     "metadata": {},
     "output_type": "execute_result"
    }
   ],
   "source": [
    "g=i*f+0.5\n",
    "int(g) # Cast the float result into an integer"
   ]
  },
  {
   "cell_type": "code",
   "execution_count": 95,
   "metadata": {},
   "outputs": [
    {
     "data": {
      "text/plain": [
       "7.0"
      ]
     },
     "execution_count": 95,
     "metadata": {},
     "output_type": "execute_result"
    }
   ],
   "source": [
    "float(i) # Cast an int into a float"
   ]
  },
  {
   "cell_type": "markdown",
   "metadata": {},
   "source": [
    "\"Normal\" precedence rules apply: power then unarrayed minus then mult/div then add/sub (remember, parentheses are your friends!)"
   ]
  },
  {
   "cell_type": "code",
   "execution_count": 96,
   "metadata": {},
   "outputs": [
    {
     "data": {
      "text/plain": [
       "81.0"
      ]
     },
     "execution_count": 96,
     "metadata": {},
     "output_type": "execute_result"
    }
   ],
   "source": [
    "-f**2*-1"
   ]
  },
  {
   "cell_type": "markdown",
   "metadata": {
    "slideshow": {
     "slide_type": "subslide"
    }
   },
   "source": [
    "## Complex\n",
    "\n",
    "Complex numbers are a Python basic type too, formed of a real and imaginary floating point pair\n"
   ]
  },
  {
   "cell_type": "code",
   "execution_count": 97,
   "metadata": {
    "slideshow": {
     "slide_type": "fragment"
    }
   },
   "outputs": [
    {
     "data": {
      "text/plain": [
       "(2+21j)"
      ]
     },
     "execution_count": 97,
     "metadata": {},
     "output_type": "execute_result"
    }
   ],
   "source": [
    "2.0+21j # Compose with \"j\" for the complex part"
   ]
  },
  {
   "cell_type": "code",
   "execution_count": 98,
   "metadata": {},
   "outputs": [
    {
     "data": {
      "text/plain": [
       "(7-9j)"
      ]
     },
     "execution_count": 98,
     "metadata": {},
     "output_type": "execute_result"
    }
   ],
   "source": [
    "complex(7,-9) # Or pass two arguments to the \"complex\" function"
   ]
  },
  {
   "cell_type": "code",
   "execution_count": 99,
   "metadata": {},
   "outputs": [
    {
     "name": "stdout",
     "output_type": "stream",
     "text": [
      "(9+18j)\n"
     ]
    }
   ],
   "source": [
    "c=1+2j\n",
    "print(c*f)"
   ]
  },
  {
   "cell_type": "code",
   "execution_count": 100,
   "metadata": {},
   "outputs": [
    {
     "data": {
      "text/plain": [
       "1.0"
      ]
     },
     "execution_count": 100,
     "metadata": {},
     "output_type": "execute_result"
    }
   ],
   "source": [
    "c.real"
   ]
  },
  {
   "cell_type": "code",
   "execution_count": 101,
   "metadata": {},
   "outputs": [
    {
     "data": {
      "text/plain": [
       "2.0"
      ]
     },
     "execution_count": 101,
     "metadata": {},
     "output_type": "execute_result"
    }
   ],
   "source": [
    "c.imag"
   ]
  },
  {
   "cell_type": "code",
   "execution_count": 102,
   "metadata": {},
   "outputs": [
    {
     "data": {
      "text/plain": [
       "2.23606797749979"
      ]
     },
     "execution_count": 102,
     "metadata": {},
     "output_type": "execute_result"
    }
   ],
   "source": [
    "abs(c)"
   ]
  },
  {
   "cell_type": "markdown",
   "metadata": {
    "slideshow": {
     "slide_type": "slide"
    }
   },
   "source": [
    "## Strings\n",
    "\n",
    "For storing text in Python we use *strings*, which are just immutable sequences of characters:"
   ]
  },
  {
   "cell_type": "code",
   "execution_count": 103,
   "metadata": {
    "slideshow": {
     "slide_type": "fragment"
    }
   },
   "outputs": [
    {
     "name": "stdout",
     "output_type": "stream",
     "text": [
      "this is a dead parrot string it's Norwegian Blue\n"
     ]
    }
   ],
   "source": [
    "s=\"this is a dead parrot string\"; t=str(\"it's Norwegian Blue\") # single quotes are fine too\n",
    "print(s, t)"
   ]
  },
  {
   "cell_type": "code",
   "execution_count": 104,
   "metadata": {},
   "outputs": [
    {
     "data": {
      "text/plain": [
       "'this is a dead parrot string it has ceased to be!'"
      ]
     },
     "execution_count": 104,
     "metadata": {},
     "output_type": "execute_result"
    }
   ],
   "source": [
    "s + \" it has ceased to be!\" # Use \"+\" to concatenate"
   ]
  },
  {
   "cell_type": "markdown",
   "metadata": {
    "slideshow": {
     "slide_type": "fragment"
    }
   },
   "source": [
    "Strings are unicode in Python3 (but watch out, they aren't in Python2)"
   ]
  },
  {
   "cell_type": "code",
   "execution_count": 105,
   "metadata": {
    "scrolled": true
   },
   "outputs": [
    {
     "name": "stdout",
     "output_type": "stream",
     "text": [
      "this parrot 😀 wouldn't go Voom! if you put a million volts though it\n"
     ]
    }
   ],
   "source": [
    "s2=str(\"this parrot \" + '\\U0001F600' + \" wouldn't go Voom! if you put a million volts though it\")\n",
    "print(s2)"
   ]
  },
  {
   "cell_type": "code",
   "execution_count": 106,
   "metadata": {},
   "outputs": [
    {
     "name": "stdout",
     "output_type": "stream",
     "text": [
      "this is a long\n",
      "string split over a few lines and has it's own \"quotes\" and 'quotes'\n",
      "so using the triple quote syntax is pretty useful\n"
     ]
    }
   ],
   "source": [
    "long_s='''this is a long\n",
    "string split over a few lines and has it's own \"quotes\" and 'quotes'\n",
    "so using the triple quote syntax is pretty useful'''\n",
    "print(long_s)"
   ]
  },
  {
   "cell_type": "markdown",
   "metadata": {
    "slideshow": {
     "slide_type": "subslide"
    }
   },
   "source": [
    "## String Operations and Maniplulation"
   ]
  },
  {
   "cell_type": "code",
   "execution_count": 107,
   "metadata": {
    "slideshow": {
     "slide_type": "fragment"
    }
   },
   "outputs": [
    {
     "data": {
      "text/plain": [
       "'3.14159'"
      ]
     },
     "execution_count": 107,
     "metadata": {},
     "output_type": "execute_result"
    }
   ],
   "source": [
    "str(3.14159) # The str() function will also convert something to a string"
   ]
  },
  {
   "cell_type": "code",
   "execution_count": 108,
   "metadata": {},
   "outputs": [
    {
     "data": {
      "text/plain": [
       "21"
      ]
     },
     "execution_count": 108,
     "metadata": {},
     "output_type": "execute_result"
    }
   ],
   "source": [
    "mp=\"the Monty Python show\"\n",
    "len(mp) # This is the length of the string"
   ]
  },
  {
   "cell_type": "code",
   "execution_count": 109,
   "metadata": {},
   "outputs": [
    {
     "data": {
      "text/plain": [
       "'THE MONTY PYTHON SHOW'"
      ]
     },
     "execution_count": 109,
     "metadata": {},
     "output_type": "execute_result"
    }
   ],
   "source": [
    "mp.upper()"
   ]
  },
  {
   "cell_type": "code",
   "execution_count": 110,
   "metadata": {},
   "outputs": [
    {
     "data": {
      "text/plain": [
       "'The Monty Python Show'"
      ]
     },
     "execution_count": 110,
     "metadata": {},
     "output_type": "execute_result"
    }
   ],
   "source": [
    "mp.title()"
   ]
  },
  {
   "cell_type": "code",
   "execution_count": 111,
   "metadata": {},
   "outputs": [
    {
     "data": {
      "text/plain": [
       "10"
      ]
     },
     "execution_count": 111,
     "metadata": {},
     "output_type": "execute_result"
    }
   ],
   "source": [
    "mp.find(\"Python\") # This gives the character index where the substring starts (or -1 if not found)"
   ]
  },
  {
   "cell_type": "code",
   "execution_count": 112,
   "metadata": {},
   "outputs": [
    {
     "data": {
      "text/plain": [
       "'one very useful manipulation is to remove leading/trailing whitespace'"
      ]
     },
     "execution_count": 112,
     "metadata": {},
     "output_type": "execute_result"
    }
   ],
   "source": [
    "'   one very useful manipulation is to remove leading/trailing whitespace    '.strip()"
   ]
  },
  {
   "cell_type": "code",
   "execution_count": 113,
   "metadata": {},
   "outputs": [
    {
     "data": {
      "text/plain": [
       "True"
      ]
     },
     "execution_count": 113,
     "metadata": {},
     "output_type": "execute_result"
    }
   ],
   "source": [
    "'# or to see if a string starts with a particular character'.startswith(\"#\")"
   ]
  },
  {
   "cell_type": "markdown",
   "metadata": {
    "slideshow": {
     "slide_type": "subslide"
    }
   },
   "source": [
    "## ipython help...\n",
    "\n",
    "Let's try using ipython's tab completion and built in help now..."
   ]
  },
  {
   "cell_type": "code",
   "execution_count": 114,
   "metadata": {
    "slideshow": {
     "slide_type": "-"
    }
   },
   "outputs": [],
   "source": [
    "str?"
   ]
  },
  {
   "cell_type": "markdown",
   "metadata": {
    "slideshow": {
     "slide_type": "slide"
    }
   },
   "source": [
    "## Bool\n",
    "\n",
    "Python has a built in *boolean* type as well, which can be `True` or `False`"
   ]
  },
  {
   "cell_type": "code",
   "execution_count": 115,
   "metadata": {
    "slideshow": {
     "slide_type": "fragment"
    }
   },
   "outputs": [
    {
     "name": "stdout",
     "output_type": "stream",
     "text": [
      "True False\n"
     ]
    }
   ],
   "source": [
    "t=True; f=bool(False)\n",
    "print(t, f)"
   ]
  },
  {
   "cell_type": "markdown",
   "metadata": {},
   "source": [
    "A boolean is the output of the comparison operator, `==`"
   ]
  },
  {
   "cell_type": "code",
   "execution_count": 116,
   "metadata": {},
   "outputs": [
    {
     "name": "stdout",
     "output_type": "stream",
     "text": [
      "False True\n"
     ]
    }
   ],
   "source": [
    "print(t==f, 7==3+4)"
   ]
  },
  {
   "cell_type": "markdown",
   "metadata": {
    "slideshow": {
     "slide_type": "fragment"
    }
   },
   "source": [
    "And Python has the usual suite of Boolean operators (do use parentheses!)"
   ]
  },
  {
   "cell_type": "code",
   "execution_count": 117,
   "metadata": {},
   "outputs": [
    {
     "data": {
      "text/plain": [
       "False"
      ]
     },
     "execution_count": 117,
     "metadata": {},
     "output_type": "execute_result"
    }
   ],
   "source": [
    "(1==1) and (7>9)"
   ]
  },
  {
   "cell_type": "code",
   "execution_count": 118,
   "metadata": {},
   "outputs": [
    {
     "data": {
      "text/plain": [
       "True"
      ]
     },
     "execution_count": 118,
     "metadata": {},
     "output_type": "execute_result"
    }
   ],
   "source": [
    "(1==1) or (7>9)"
   ]
  },
  {
   "cell_type": "code",
   "execution_count": 119,
   "metadata": {},
   "outputs": [
    {
     "data": {
      "text/plain": [
       "False"
      ]
     },
     "execution_count": 119,
     "metadata": {},
     "output_type": "execute_result"
    }
   ],
   "source": [
    "not True"
   ]
  },
  {
   "cell_type": "markdown",
   "metadata": {
    "slideshow": {
     "slide_type": "skip"
    }
   },
   "source": [
    "## Boolean curiosities...\n",
    "\n",
    "Booleans will cast into the numbers 1 (`True`) and 0 (`False`)\n",
    "\n",
    "This leads to some ocassionally unexpected behaviour..."
   ]
  },
  {
   "cell_type": "code",
   "execution_count": 120,
   "metadata": {
    "slideshow": {
     "slide_type": "skip"
    }
   },
   "outputs": [
    {
     "name": "stdout",
     "output_type": "stream",
     "text": [
      "False True\n"
     ]
    }
   ],
   "source": [
    "print(9==True, 0.0==False) # Numnbers are False if zero, True otherwise"
   ]
  },
  {
   "cell_type": "markdown",
   "metadata": {
    "slideshow": {
     "slide_type": "skip"
    }
   },
   "source": [
    "The `bool()` function will cast it's argument into a truth value, but it's not really recommended to do this, e.g., although strings will cast to `True` if non-zero length, it's not really obvious or clear..."
   ]
  },
  {
   "cell_type": "code",
   "execution_count": 121,
   "metadata": {
    "slideshow": {
     "slide_type": "skip"
    }
   },
   "outputs": [
    {
     "name": "stdout",
     "output_type": "stream",
     "text": [
      "True\n"
     ]
    }
   ],
   "source": [
    "s=\"the naked truth\"\n",
    "print(bool(s)) # Not clear"
   ]
  },
  {
   "cell_type": "code",
   "execution_count": 122,
   "metadata": {
    "slideshow": {
     "slide_type": "skip"
    }
   },
   "outputs": [
    {
     "name": "stdout",
     "output_type": "stream",
     "text": [
      "True\n"
     ]
    }
   ],
   "source": [
    "print(len(s) > 0) # Much clearer"
   ]
  },
  {
   "cell_type": "markdown",
   "metadata": {
    "slideshow": {
     "slide_type": "slide"
    }
   },
   "source": [
    "# Null Value\n",
    "\n",
    "Python has an explicit *null* value, which can be assiged to any variable using `None`"
   ]
  },
  {
   "cell_type": "code",
   "execution_count": 123,
   "metadata": {
    "slideshow": {
     "slide_type": "-"
    }
   },
   "outputs": [
    {
     "name": "stdout",
     "output_type": "stream",
     "text": [
      "None\n"
     ]
    }
   ],
   "source": [
    "not_here = None\n",
    "print(not_here)"
   ]
  },
  {
   "cell_type": "markdown",
   "metadata": {},
   "source": [
    "`None` is used to explicitly signal that a value is unset or missing\n",
    "\n",
    "It's a common idiom in Python to use the fact that a `None` value is considered `False`"
   ]
  },
  {
   "cell_type": "markdown",
   "metadata": {
    "slideshow": {
     "slide_type": "slide"
    }
   },
   "source": [
    "# Compound Objects"
   ]
  },
  {
   "cell_type": "markdown",
   "metadata": {
    "slideshow": {
     "slide_type": "slide"
    }
   },
   "source": [
    "## Lists\n",
    "\n",
    "Lists are Python's way of grouping objects together - with lists we start to see some of the power of python as a dynamic language"
   ]
  },
  {
   "cell_type": "markdown",
   "metadata": {
    "slideshow": {
     "slide_type": "fragment"
    }
   },
   "source": [
    "Define a list using square brackets and commas to separate elements:"
   ]
  },
  {
   "cell_type": "code",
   "execution_count": 124,
   "metadata": {
    "slideshow": {
     "slide_type": "-"
    }
   },
   "outputs": [
    {
     "name": "stdout",
     "output_type": "stream",
     "text": [
      "[2, 3, 5, 7, 11, 13]\n"
     ]
    }
   ],
   "source": [
    "my_list = [2, 3, 5, 7, 11, 13]\n",
    "print(my_list)"
   ]
  },
  {
   "cell_type": "markdown",
   "metadata": {
    "slideshow": {
     "slide_type": "subslide"
    }
   },
   "source": [
    "Lists are ordered and indexed from zero\n",
    "\n",
    "Use the [] operator to access a specific list element"
   ]
  },
  {
   "cell_type": "code",
   "execution_count": 125,
   "metadata": {},
   "outputs": [
    {
     "name": "stdout",
     "output_type": "stream",
     "text": [
      "[2, 3, 5, 7, 11, 13]\n"
     ]
    }
   ],
   "source": [
    "print(my_list)"
   ]
  },
  {
   "cell_type": "code",
   "execution_count": 126,
   "metadata": {},
   "outputs": [
    {
     "data": {
      "text/plain": [
       "5"
      ]
     },
     "execution_count": 126,
     "metadata": {},
     "output_type": "execute_result"
    }
   ],
   "source": [
    "my_list[2] # N.B. This is the third element!"
   ]
  },
  {
   "cell_type": "markdown",
   "metadata": {},
   "source": [
    "If a negative index is given, the list is accessed counting from the right, with -1 as the last element"
   ]
  },
  {
   "cell_type": "code",
   "execution_count": 127,
   "metadata": {},
   "outputs": [
    {
     "data": {
      "text/plain": [
       "13"
      ]
     },
     "execution_count": 127,
     "metadata": {},
     "output_type": "execute_result"
    }
   ],
   "source": [
    "my_list[-1]"
   ]
  },
  {
   "cell_type": "code",
   "execution_count": 128,
   "metadata": {},
   "outputs": [
    {
     "data": {
      "text/plain": [
       "7"
      ]
     },
     "execution_count": 128,
     "metadata": {},
     "output_type": "execute_result"
    }
   ],
   "source": [
    "my_list[-3] # Third element from the end"
   ]
  },
  {
   "cell_type": "code",
   "execution_count": 129,
   "metadata": {},
   "outputs": [
    {
     "data": {
      "text/plain": [
       "6"
      ]
     },
     "execution_count": 129,
     "metadata": {},
     "output_type": "execute_result"
    }
   ],
   "source": [
    "len(my_list) # len() gives the total number of elements in the list"
   ]
  },
  {
   "cell_type": "markdown",
   "metadata": {
    "slideshow": {
     "slide_type": "subslide"
    }
   },
   "source": [
    "Lists are also mutable, you can change elements as you like:"
   ]
  },
  {
   "cell_type": "code",
   "execution_count": 130,
   "metadata": {},
   "outputs": [],
   "source": [
    "my_list[0] = 42"
   ]
  },
  {
   "cell_type": "code",
   "execution_count": 131,
   "metadata": {},
   "outputs": [],
   "source": [
    "my_list[-1] = \"bicycle repair man\""
   ]
  },
  {
   "cell_type": "code",
   "execution_count": 132,
   "metadata": {},
   "outputs": [
    {
     "name": "stdout",
     "output_type": "stream",
     "text": [
      "[42, 3, 5, 7, 11, 'bicycle repair man']\n"
     ]
    }
   ],
   "source": [
    "print(my_list)"
   ]
  },
  {
   "cell_type": "markdown",
   "metadata": {},
   "source": [
    "Add elements to a list using `append`:"
   ]
  },
  {
   "cell_type": "code",
   "execution_count": 133,
   "metadata": {},
   "outputs": [],
   "source": [
    "my_list.append(True)"
   ]
  },
  {
   "cell_type": "code",
   "execution_count": 134,
   "metadata": {},
   "outputs": [
    {
     "name": "stdout",
     "output_type": "stream",
     "text": [
      "[42, 3, 5, 7, 11, 'bicycle repair man', True]\n"
     ]
    }
   ],
   "source": [
    "print(my_list)"
   ]
  },
  {
   "cell_type": "markdown",
   "metadata": {},
   "source": [
    "And delete them with the `del` keyword:"
   ]
  },
  {
   "cell_type": "code",
   "execution_count": 135,
   "metadata": {},
   "outputs": [
    {
     "name": "stdout",
     "output_type": "stream",
     "text": [
      "[3, 5, 7, 11, 'bicycle repair man', True]\n"
     ]
    }
   ],
   "source": [
    "del my_list[0]\n",
    "print(my_list)"
   ]
  },
  {
   "cell_type": "markdown",
   "metadata": {},
   "source": [
    "As you can see, Python is more than happy to have mixed object types in a list!"
   ]
  },
  {
   "cell_type": "markdown",
   "metadata": {
    "slideshow": {
     "slide_type": "subslide"
    }
   },
   "source": [
    "## List Slices\n",
    "\n",
    "For for extracting ranges out of lists, `[i:j]`, gets the elements of the list from `i` up to **but not including** `j`\n"
   ]
  },
  {
   "cell_type": "code",
   "execution_count": 136,
   "metadata": {},
   "outputs": [
    {
     "name": "stdout",
     "output_type": "stream",
     "text": [
      "[0, 1, 2, 3, 4, 5, 6, 7, 8, 9]\n"
     ]
    }
   ],
   "source": [
    "lst=list(range(10))\n",
    "print(lst)"
   ]
  },
  {
   "cell_type": "code",
   "execution_count": 137,
   "metadata": {},
   "outputs": [
    {
     "data": {
      "text/plain": [
       "[1, 2]"
      ]
     },
     "execution_count": 137,
     "metadata": {},
     "output_type": "execute_result"
    }
   ],
   "source": [
    "lst[1:3]"
   ]
  },
  {
   "cell_type": "code",
   "execution_count": 138,
   "metadata": {},
   "outputs": [
    {
     "data": {
      "text/plain": [
       "[5, 6, 7, 8]"
      ]
     },
     "execution_count": 138,
     "metadata": {},
     "output_type": "execute_result"
    }
   ],
   "source": [
    "lst[5:-1] # Negative indexes act as before"
   ]
  },
  {
   "cell_type": "code",
   "execution_count": 139,
   "metadata": {},
   "outputs": [
    {
     "data": {
      "text/plain": [
       "[0, 1, 2, 3]"
      ]
     },
     "execution_count": 139,
     "metadata": {},
     "output_type": "execute_result"
    }
   ],
   "source": [
    "lst[:4] # Missing the first index means \"start at the beginning\""
   ]
  },
  {
   "cell_type": "code",
   "execution_count": 140,
   "metadata": {},
   "outputs": [
    {
     "data": {
      "text/plain": [
       "[7, 8, 9]"
      ]
     },
     "execution_count": 140,
     "metadata": {},
     "output_type": "execute_result"
    }
   ],
   "source": [
    "lst[7:] # Missing the last index means \"stop at the end\""
   ]
  },
  {
   "cell_type": "code",
   "execution_count": 141,
   "metadata": {},
   "outputs": [
    {
     "data": {
      "text/plain": [
       "[0, 2, 4, 6]"
      ]
     },
     "execution_count": 141,
     "metadata": {},
     "output_type": "execute_result"
    }
   ],
   "source": [
    "lst[0:7:2] # A third paramater is a \"stride\" value"
   ]
  },
  {
   "cell_type": "code",
   "execution_count": 142,
   "metadata": {},
   "outputs": [
    {
     "data": {
      "text/plain": [
       "[0, 1, 2, 3, 4, 5, 6, 7, 8, 9]"
      ]
     },
     "execution_count": 142,
     "metadata": {},
     "output_type": "execute_result"
    }
   ],
   "source": [
    "lst[:] # What use is this...?"
   ]
  },
  {
   "cell_type": "markdown",
   "metadata": {
    "slideshow": {
     "slide_type": "fragment"
    }
   },
   "source": [
    "The answer is that slices are always copies, so this made a *new copy* of the list"
   ]
  },
  {
   "cell_type": "markdown",
   "metadata": {
    "slideshow": {
     "slide_type": "slide"
    }
   },
   "source": [
    "## Dictionaries\n",
    "\n",
    "Dictionaries are used to hold unordered arrays of *keys* and *values*\n",
    "\n",
    "Python dictionaries can have pretty much anything for the values; keys are restricted to immutable objects"
   ]
  },
  {
   "cell_type": "code",
   "execution_count": 143,
   "metadata": {
    "slideshow": {
     "slide_type": "fragment"
    }
   },
   "outputs": [
    {
     "name": "stdout",
     "output_type": "stream",
     "text": [
      "{'straight': 'Graham Chapman', 'curved': 'John Cleese', 'drawn': 'Terry Gilliam', 'mild': 'Michael Palin'}\n"
     ]
    }
   ],
   "source": [
    "d={\"straight\" : \"Graham Chapman\",\n",
    "   \"curved\" : \"John Cleese\",\n",
    "   \"drawn\" : \"Terry Gilliam\",\n",
    "   \"mild\" : \"Michael Palin\"}\n",
    "print(d)"
   ]
  },
  {
   "cell_type": "code",
   "execution_count": 144,
   "metadata": {
    "slideshow": {
     "slide_type": "fragment"
    }
   },
   "outputs": [
    {
     "data": {
      "text/plain": [
       "'John Cleese'"
      ]
     },
     "execution_count": 144,
     "metadata": {},
     "output_type": "execute_result"
    }
   ],
   "source": [
    "d[\"curved\"] # Accessor uses [], like lists, but with the key and returns the value"
   ]
  },
  {
   "cell_type": "code",
   "execution_count": 145,
   "metadata": {
    "slideshow": {
     "slide_type": "fragment"
    }
   },
   "outputs": [
    {
     "name": "stdout",
     "output_type": "stream",
     "text": [
      "Graeme Stewart and some other guy\n"
     ]
    }
   ],
   "source": [
    "d[\"extra\"] = \"Graeme Stewart\" # Add or mutate values just by setting them\n",
    "d[\"curved\"] = \"some other guy\"\n",
    "print(d[\"extra\"], \"and\", d[\"curved\"])"
   ]
  },
  {
   "cell_type": "code",
   "execution_count": 178,
   "metadata": {
    "slideshow": {
     "slide_type": "fragment"
    }
   },
   "outputs": [
    {
     "data": {
      "text/plain": [
       "False"
      ]
     },
     "execution_count": 178,
     "metadata": {},
     "output_type": "execute_result"
    }
   ],
   "source": [
    "del d[\"extra\"] # Use the del operator to remove entries\n",
    "\"extra\" in d   # This is the notation to ask if a certain key exists in the dictionary"
   ]
  },
  {
   "cell_type": "markdown",
   "metadata": {
    "slideshow": {
     "slide_type": "slide"
    }
   },
   "source": [
    "## Container merging\n",
    "\n",
    "We saw how to add single items to containers, but there are also useful methods that merge containers into one another"
   ]
  },
  {
   "cell_type": "markdown",
   "metadata": {
    "slideshow": {
     "slide_type": "fragment"
    }
   },
   "source": [
    "For lists, you can `extend` one list with another"
   ]
  },
  {
   "cell_type": "code",
   "execution_count": 147,
   "metadata": {},
   "outputs": [
    {
     "name": "stdout",
     "output_type": "stream",
     "text": [
      "['cats', 'lizards', 'parrots', 'beetles', 'worms', 'spiders']\n"
     ]
    }
   ],
   "source": [
    "lst_1=[\"cats\", \"lizards\", \"parrots\"]; lst_2=[\"beetles\", \"worms\", \"spiders\"]\n",
    "lst_1.extend(lst_2)\n",
    "print(lst_1)"
   ]
  },
  {
   "cell_type": "markdown",
   "metadata": {
    "slideshow": {
     "slide_type": "fragment"
    }
   },
   "source": [
    "For dictionaries use `update` (N.B. existing keys get overwritten)"
   ]
  },
  {
   "cell_type": "code",
   "execution_count": 148,
   "metadata": {},
   "outputs": [
    {
     "name": "stdout",
     "output_type": "stream",
     "text": [
      "{'picasso': 'Guernica', 'blanchard': 'Mujer con abanico', 'miro': 'Miss Chicago', 'macdonald': 'A Paradox', 'pollock': 'Full Fathom Five'} 5\n"
     ]
    }
   ],
   "source": [
    "art={\"picasso\": \"Guernica\", \"blanchard\": \"Mujer con abanico\", \"miro\": \"Mai 1968\"}\n",
    "more_art={\"macdonald\": \"A Paradox\", \"pollock\": \"Full Fathom Five\", \"miro\": \"Miss Chicago\"}\n",
    "art.update(more_art)\n",
    "print(art, len(art))"
   ]
  },
  {
   "cell_type": "markdown",
   "metadata": {
    "slideshow": {
     "slide_type": "slide"
    }
   },
   "source": [
    "## Tuples\n",
    "\n",
    "As well as lists, Python supports *tuples*, which are like lists but *immutable*\n",
    "\n",
    "Typles are defined by using commas to separate the different items in the tuple sequence:"
   ]
  },
  {
   "cell_type": "code",
   "execution_count": 149,
   "metadata": {
    "slideshow": {
     "slide_type": "fragment"
    }
   },
   "outputs": [
    {
     "name": "stdout",
     "output_type": "stream",
     "text": [
      "(7, 'bannanas', True, None)\n",
      "('the', 'parentheses', 'are', 'optional')\n"
     ]
    }
   ],
   "source": [
    "tup = (7, \"bannanas\", True, None)\n",
    "print(tup)\n",
    "tup2 = \"the\", \"parentheses\", \"are\", \"optional\"\n",
    "print(tup2)"
   ]
  },
  {
   "cell_type": "markdown",
   "metadata": {
    "slideshow": {
     "slide_type": "fragment"
    }
   },
   "source": [
    "Tuples can be assigned to separate variables like this:"
   ]
  },
  {
   "cell_type": "code",
   "execution_count": 150,
   "metadata": {},
   "outputs": [
    {
     "name": "stdout",
     "output_type": "stream",
     "text": [
      "bannanas\n"
     ]
    }
   ],
   "source": [
    "a1, a2, a3, a4 = tup\n",
    "print(a2)"
   ]
  },
  {
   "cell_type": "markdown",
   "metadata": {},
   "source": [
    "This is a very common way to return multiple values from functions (you have to provide the same number of variables as the length of the tuple)"
   ]
  },
  {
   "cell_type": "markdown",
   "metadata": {
    "slideshow": {
     "slide_type": "slide"
    }
   },
   "source": [
    "# Other Container Types\n",
    "\n",
    "Just to mention other containers that we didn't have time to look at here:\n",
    "\n",
    "* `set` - mutable unordered container of distinct objects\n",
    "* `frozenset` - as above, but immutable\n",
    "\n",
    "And the `collections` module defines some other containers that can be useful, like ordered dictionaries\n"
   ]
  },
  {
   "cell_type": "markdown",
   "metadata": {
    "slideshow": {
     "slide_type": "slide"
    }
   },
   "source": [
    "# Iterators and Loops\n",
    "\n",
    "We met container types in the last section and very often we want to have an action performed repetitively on the contents of a container, or we want to loop over some other pieces of data."
   ]
  },
  {
   "cell_type": "code",
   "execution_count": 151,
   "metadata": {
    "slideshow": {
     "slide_type": "fragment"
    }
   },
   "outputs": [
    {
     "name": "stdout",
     "output_type": "stream",
     "text": [
      "Today I was bitten by cats\n",
      "Today I was bitten by lizards\n",
      "Today I was bitten by parrots\n"
     ]
    }
   ],
   "source": [
    "lst_1=[\"cats\", \"lizards\", \"parrots\"];\n",
    "for animal in lst_1:\n",
    "    print(\"Today I was bitten by\", animal)"
   ]
  },
  {
   "cell_type": "markdown",
   "metadata": {
    "slideshow": {
     "slide_type": "fragment"
    }
   },
   "source": [
    "The Pythonic idiom here is very common: `for ITEM in COLLECTION`.\n",
    "\n",
    "But in fact it would be better to describe what the `ITEM` runs over as an **iterator**. In Python an iterator is anything that can produce a sequence of values. e.g., if it is a file then it's each line of the file."
   ]
  },
  {
   "cell_type": "code",
   "execution_count": 152,
   "metadata": {
    "slideshow": {
     "slide_type": "fragment"
    }
   },
   "outputs": [
    {
     "name": "stdout",
     "output_type": "stream",
     "text": [
      "  -------------------------------------------------\n",
      "               The Tragedy of Macbeth\n",
      "\n",
      "   Shakespeare homepage | Macbeth | Act 1, Scene 1\n",
      "                     Next scene\n",
      "  -------------------------------------------------\n",
      "\n",
      "SCENE I. A desert place.\n",
      "\n",
      "  _Thunder and lightning. Enter three Witches_\n",
      "\n",
      "FIRST WITCH\n",
      "\n",
      "  When shall we three meet again\n",
      "  In thunder, lightning, or in rain?\n",
      "\n",
      "SECOND WITCH\n",
      "\n",
      "  When the hurlyburly's done,\n",
      "  When the battle's lost and won.\n",
      "\n",
      "THIRD WITCH\n",
      "\n",
      "  That will be ere the set of sun.\n",
      "\n",
      "FIRST WITCH\n",
      "\n",
      "  Where the place?\n",
      "\n",
      "SECOND WITCH\n",
      "\n",
      "  Upon the heath.\n",
      "\n",
      "THIRD WITCH\n",
      "\n",
      "  There to meet with Macbeth.\n",
      "\n",
      "FIRST WITCH\n",
      "\n",
      "  I come, Graymalkin!\n",
      "\n",
      "SECOND WITCH\n",
      "\n",
      "  Paddock calls.\n",
      "\n",
      "THIRD WITCH\n",
      "\n",
      "  Anon.\n",
      "\n",
      "ALL\n",
      "\n",
      "  Fair is foul, and foul is fair:\n",
      "  Hover through the fog and filthy air.\n",
      "\n",
      "  _Exeunt_\n",
      "\n",
      "  -------------------------------------------------\n",
      "   Shakespeare homepage | Macbeth | Act 1, Scene 1\n",
      "                     Next scene\n",
      "\n",
      "  -------------------------------------------------\n"
     ]
    }
   ],
   "source": [
    "macbeth=open(\"src/macbeth.txt\")\n",
    "for line in macbeth:\n",
    "    print(line, end=\"\")"
   ]
  },
  {
   "cell_type": "markdown",
   "metadata": {
    "slideshow": {
     "slide_type": "subslide"
    }
   },
   "source": [
    "For iterating over a list (or a file) what we iterate over is clear, but what about a dictionary?"
   ]
  },
  {
   "cell_type": "markdown",
   "metadata": {
    "slideshow": {
     "slide_type": "fragment"
    }
   },
   "source": [
    "The *default* iterator on the dictionary are the keys:"
   ]
  },
  {
   "cell_type": "code",
   "execution_count": 153,
   "metadata": {},
   "outputs": [
    {
     "name": "stdout",
     "output_type": "stream",
     "text": [
      "picasso painted Guernica\n",
      "blanchard painted Mujer con abanico\n",
      "miro painted Miss Chicago\n",
      "macdonald painted A Paradox\n",
      "pollock painted Full Fathom Five\n"
     ]
    }
   ],
   "source": [
    "for k in art:\n",
    "    print(k, \"painted\", art[k])"
   ]
  },
  {
   "cell_type": "markdown",
   "metadata": {
    "slideshow": {
     "slide_type": "fragment"
    }
   },
   "source": [
    "But there is also a `values` iterator and a (key, value) iterator, called `items`"
   ]
  },
  {
   "cell_type": "code",
   "execution_count": 154,
   "metadata": {
    "slideshow": {
     "slide_type": "-"
    }
   },
   "outputs": [
    {
     "name": "stdout",
     "output_type": "stream",
     "text": [
      "GUERNICA is a great painting\n",
      "MUJER CON ABANICO is a great painting\n",
      "MISS CHICAGO is a great painting\n",
      "A PARADOX is a great painting\n",
      "FULL FATHOM FIVE is a great painting\n"
     ]
    }
   ],
   "source": [
    "for v in art.values():\n",
    "    print(v.upper(), \"is a great painting\")"
   ]
  },
  {
   "cell_type": "code",
   "execution_count": 179,
   "metadata": {
    "slideshow": {
     "slide_type": "-"
    }
   },
   "outputs": [
    {
     "name": "stdout",
     "output_type": "stream",
     "text": [
      "GUERNICA is a great painting by picasso\n",
      "MUJER CON ABANICO is a great painting by blanchard\n",
      "MISS CHICAGO is a great painting by miro\n",
      "A PARADOX is a great painting by macdonald\n",
      "FULL FATHOM FIVE is a great painting by pollock\n"
     ]
    }
   ],
   "source": [
    "for k,v in art.items():    # The return value of each iteration is a two value tuple\n",
    "    print(v.upper(), \"is a great painting by\", k)"
   ]
  },
  {
   "cell_type": "markdown",
   "metadata": {
    "slideshow": {
     "slide_type": "slide"
    }
   },
   "source": [
    "# A syntactic excursion\n",
    "\n",
    "Now that we touched on iterators, there's another thing we should highlight, *Python's indentation syntax* that marks out *code blocks*"
   ]
  },
  {
   "cell_type": "markdown",
   "metadata": {
    "slideshow": {
     "slide_type": "fragment"
    }
   },
   "source": [
    "Unlike other languages that might use some braces, `{` and `}`, to mark pieces of code which are in the same block, python uses indentation\n",
    "\n",
    "Any lines of code that have the same indendation are in the same block"
   ]
  },
  {
   "cell_type": "code",
   "execution_count": 156,
   "metadata": {},
   "outputs": [
    {
     "name": "stdout",
     "output_type": "stream",
     "text": [
      "['picasso', 'gUERNICA', 'blanchard', 'mUJER CON ABANICO', 'miro', 'mISS cHICAGO', 'macdonald', 'a pARADOX', 'pollock', 'fULL fATHOM fIVE']\n"
     ]
    }
   ],
   "source": [
    "l = list()\n",
    "for k in art:                    # Note the use of the \":\" here, also used in control flow\n",
    "    l.append(k)                  # This line is in the indented code block, so it's executed each time\n",
    "    l.append(art[k].swapcase())  # So is this one\n",
    "print(l)                         # This one is not, so the code block ends on the previous line, this is outside"
   ]
  },
  {
   "cell_type": "markdown",
   "metadata": {
    "slideshow": {
     "slide_type": "fragment"
    }
   },
   "source": [
    "Depending on your mood you can view this as a wonderful exercise in uncuttered efficiency or as a painful nightmare where it becomes really hard to work out which lines are in the same block\n",
    "\n",
    "\n",
    "The [very strong advice](https://www.python.org/dev/peps/pep-0008/#tabs-or-spaces) is to always use spaces, never tabs; use a good editor to help"
   ]
  },
  {
   "cell_type": "markdown",
   "metadata": {
    "slideshow": {
     "slide_type": "slide"
    }
   },
   "source": [
    "# Conditional Control Flow\n",
    "\n",
    "Python can excute code conditionally, using an `if ... elif ... else` syntax that will not really surprise you"
   ]
  },
  {
   "cell_type": "code",
   "execution_count": 157,
   "metadata": {
    "slideshow": {
     "slide_type": "fragment"
    }
   },
   "outputs": [
    {
     "name": "stdout",
     "output_type": "stream",
     "text": [
      "Oh, 0 - that's small\n",
      "Oh, 1 - that's small\n",
      "Oh, 2 - that's small\n",
      "Oh, 3 - that's medium\n",
      "Oh, 4 - that's medium\n",
      "Oh, 5 - that's medium\n",
      "Oh, 6 - that's medium\n",
      "Oh, 7 - that's big\n",
      "Oh, 8 - that's big\n",
      "Oh, 9 - that's big\n"
     ]
    }
   ],
   "source": [
    "for number in range(10):\n",
    "    print(\"Oh,\", number, \"- \", end='')\n",
    "    if number < 3:\n",
    "        print(\"that's small\")\n",
    "    elif number < 7:\n",
    "        print(\"that's medium\")\n",
    "    else:\n",
    "        print(\"that's big\")"
   ]
  },
  {
   "cell_type": "markdown",
   "metadata": {},
   "source": [
    "Evidently this also shows how loops and control statements are naturally nested"
   ]
  },
  {
   "cell_type": "markdown",
   "metadata": {
    "slideshow": {
     "slide_type": "subslide"
    }
   },
   "source": [
    "## Ternery operator\n",
    "\n",
    "Python has a compact version of `if ... then ... else ...` called a *ternary operator*\n",
    "\n",
    "In Python this has a nice natural syntax"
   ]
  },
  {
   "cell_type": "code",
   "execution_count": 158,
   "metadata": {},
   "outputs": [
    {
     "name": "stdout",
     "output_type": "stream",
     "text": [
      "it's the truth, Ruth\n"
     ]
    }
   ],
   "source": [
    "st = \"it's the truth, Ruth\" if len(art) == 5 else \"it's a lie, Sky\"\n",
    "print(st)"
   ]
  },
  {
   "cell_type": "markdown",
   "metadata": {
    "slideshow": {
     "slide_type": "slide"
    }
   },
   "source": [
    "# Loop Control\n",
    "\n",
    "You can write a conditional control loop in Python with `while (CONDITION) ...`"
   ]
  },
  {
   "cell_type": "code",
   "execution_count": 159,
   "metadata": {
    "slideshow": {
     "slide_type": "fragment"
    }
   },
   "outputs": [
    {
     "name": "stdout",
     "output_type": "stream",
     "text": [
      "0\n",
      "1\n",
      "2\n",
      "3\n",
      "4\n"
     ]
    }
   ],
   "source": [
    "i=0\n",
    "while (i<5):\n",
    "    print(i)\n",
    "    i+=1          # Note this nice syntax for adding to a number (it's the same as \"i=i+1\")\n",
    "                  # Also supported are \"-=\", \"*=\", \"/=\" - they do what you would expect"
   ]
  },
  {
   "cell_type": "markdown",
   "metadata": {
    "slideshow": {
     "slide_type": "subslide"
    }
   },
   "source": [
    "## Better Loop Control"
   ]
  },
  {
   "cell_type": "markdown",
   "metadata": {
    "slideshow": {
     "slide_type": "-"
    }
   },
   "source": [
    "Usually a nicer way to get control in loops is to use the keywords `continue` and `break`:\n",
    "* `continue` stops this iteration and jumps back to the start to get the next value\n",
    "* `break` exits the loop immediately"
   ]
  },
  {
   "cell_type": "code",
   "execution_count": 160,
   "metadata": {
    "slideshow": {
     "slide_type": "fragment"
    }
   },
   "outputs": [
    {
     "name": "stdout",
     "output_type": "stream",
     "text": [
      "bark\n",
      "roll over\n"
     ]
    }
   ],
   "source": [
    "words = ['bark', 'nothing', 'roll over', 'die', 'eat']\n",
    "for cmd in words:\n",
    "    if cmd == 'nothing':\n",
    "        continue\n",
    "    if cmd == 'die':\n",
    "        break\n",
    "    print(cmd)"
   ]
  },
  {
   "cell_type": "markdown",
   "metadata": {
    "slideshow": {
     "slide_type": "slide"
    }
   },
   "source": [
    "# Comprehensions\n",
    "\n",
    "Python has a rather lovely syntax for generating output lists and dictionaries from other iterables\n",
    "\n",
    "It's very commonly used and replaces a many things that would require short loops with a compact single line"
   ]
  },
  {
   "cell_type": "code",
   "execution_count": 161,
   "metadata": {
    "slideshow": {
     "slide_type": "fragment"
    }
   },
   "outputs": [
    {
     "data": {
      "text/plain": [
       "[1, 9, 25, 49, 121, 169, 289]"
      ]
     },
     "execution_count": 161,
     "metadata": {},
     "output_type": "execute_result"
    }
   ],
   "source": [
    "[ x**2 for x in [1, 3, 5, 7, 11, 13, 17] ]"
   ]
  },
  {
   "cell_type": "markdown",
   "metadata": {},
   "source": [
    "You can read this as `OUTPUT for ITEM in ITERABLE`, and enclosing it within the `[]`s lets Python know this is a *list comprehnsion*"
   ]
  },
  {
   "cell_type": "code",
   "execution_count": 162,
   "metadata": {
    "slideshow": {
     "slide_type": "fragment"
    }
   },
   "outputs": [
    {
     "data": {
      "text/plain": [
       "[100, 400, 900, 1600, 2500, 3600, 4900, 6400, 8100]"
      ]
     },
     "execution_count": 162,
     "metadata": {},
     "output_type": "execute_result"
    }
   ],
   "source": [
    "[ x**2 for x in range(1,100) if x%10 == 0 ]"
   ]
  },
  {
   "cell_type": "markdown",
   "metadata": {},
   "source": [
    "Above we also added a condition that selected only certain elements of the list"
   ]
  },
  {
   "cell_type": "markdown",
   "metadata": {
    "slideshow": {
     "slide_type": "subslide"
    }
   },
   "source": [
    "Dictionary comprehensions are very similar to those for lists, just that the output is specified as `key: value` and the syntax for a dictionary comprehension is an expression enclosed in `{}`s"
   ]
  },
  {
   "cell_type": "code",
   "execution_count": 163,
   "metadata": {},
   "outputs": [
    {
     "data": {
      "text/plain": [
       "{10: 100,\n",
       " 20: 400,\n",
       " 30: 900,\n",
       " 40: 1600,\n",
       " 50: 2500,\n",
       " 60: 3600,\n",
       " 70: 4900,\n",
       " 80: 6400,\n",
       " 90: 8100}"
      ]
     },
     "execution_count": 163,
     "metadata": {},
     "output_type": "execute_result"
    }
   ],
   "source": [
    "{ x: x**2 for x in range(1,100) if x%10 == 0 }"
   ]
  },
  {
   "cell_type": "markdown",
   "metadata": {
    "slideshow": {
     "slide_type": "slide"
    }
   },
   "source": [
    "# Functions\n",
    "\n",
    "Now we know enough of the nuts and bolts of Python to start building some more interesting things\n",
    "\n",
    "![Meccano toy](images/meccano.jpg)"
   ]
  },
  {
   "cell_type": "markdown",
   "metadata": {
    "slideshow": {
     "slide_type": "slide"
    }
   },
   "source": [
    "Functions are how we start to encapsulate behaviour in our programs, so that tasks can be isolated from one another and different parts of the program don't interfere\n",
    "\n",
    "Functions normally take some inputs and give back outputs, although skipping one or the other is quite common"
   ]
  },
  {
   "cell_type": "markdown",
   "metadata": {
    "slideshow": {
     "slide_type": "fragment"
    }
   },
   "source": [
    "In Python we define a function with the `def` keyword:"
   ]
  },
  {
   "cell_type": "code",
   "execution_count": 164,
   "metadata": {},
   "outputs": [],
   "source": [
    "def double_and_more(i, j):\n",
    "    '''A trivial function'''\n",
    "    k = i*2\n",
    "    k += j\n",
    "    return k"
   ]
  },
  {
   "cell_type": "code",
   "execution_count": 165,
   "metadata": {
    "slideshow": {
     "slide_type": "fragment"
    }
   },
   "outputs": [
    {
     "name": "stdout",
     "output_type": "stream",
     "text": [
      "Help on function double_and_more in module __main__:\n",
      "\n",
      "double_and_more(i, j)\n",
      "    A trivial function\n",
      "\n"
     ]
    }
   ],
   "source": [
    "help(double_and_more) # This is the same as double_and_more? in ipython"
   ]
  },
  {
   "cell_type": "code",
   "execution_count": 180,
   "metadata": {},
   "outputs": [
    {
     "name": "stdout",
     "output_type": "stream",
     "text": [
      "19\n"
     ]
    }
   ],
   "source": [
    "print(double_and_more(7, 5)) # Call a function with its name, followed by (), with any arguments inside"
   ]
  },
  {
   "cell_type": "code",
   "execution_count": 167,
   "metadata": {
    "slideshow": {
     "slide_type": "subslide"
    }
   },
   "outputs": [],
   "source": [
    "def double_and_more(i, j):\n",
    "    '''A trivial function'''\n",
    "    k = i*2\n",
    "    k += j\n",
    "    return k"
   ]
  },
  {
   "cell_type": "markdown",
   "metadata": {},
   "source": [
    "* The arguments are given in parenthises after the name of the function\n",
    "* The string immediately after the `def` is called the *docstring* and is printed when the user asks for help\n",
    "  * Excepting trivial functiona, do always write a docstring\n",
    "* The `return` value exits the function, returning any values given (can be as many as you like, as a tuple)\n",
    "  * If there's no return value at the end of the function it implicitly returns `None`\n",
    "* Variables defined in the scope of the function block are local and not visible outwith it (this is a *good thing*)"
   ]
  },
  {
   "cell_type": "markdown",
   "metadata": {
    "slideshow": {
     "slide_type": "subslide"
    }
   },
   "source": [
    "Parameters that get passed to a function in Python are *named* and it's usually clearer if the client calls them using that name, e.g.,"
   ]
  },
  {
   "cell_type": "code",
   "execution_count": 168,
   "metadata": {},
   "outputs": [
    {
     "name": "stdout",
     "output_type": "stream",
     "text": [
      "We are shouting, 'pancakes', for you\n"
     ]
    },
    {
     "data": {
      "text/plain": [
       "-64"
      ]
     },
     "execution_count": 168,
     "metadata": {},
     "output_type": "execute_result"
    }
   ],
   "source": [
    "def maths_circus(num, message):\n",
    "    '''A noisy cuber'''\n",
    "    print(\"We are shouting, '\", message, \"', for you\", sep=\"\")\n",
    "    n = num**3\n",
    "    return n\n",
    "maths_circus(num=-4, message=\"pancakes\")"
   ]
  },
  {
   "cell_type": "markdown",
   "metadata": {
    "slideshow": {
     "slide_type": "fragment"
    }
   },
   "source": [
    "This also means that paramters can be given in any order..."
   ]
  },
  {
   "cell_type": "code",
   "execution_count": 169,
   "metadata": {},
   "outputs": [
    {
     "name": "stdout",
     "output_type": "stream",
     "text": [
      "We are shouting, 'I love clowns', for you\n"
     ]
    },
    {
     "data": {
      "text/plain": [
       "729"
      ]
     },
     "execution_count": 169,
     "metadata": {},
     "output_type": "execute_result"
    }
   ],
   "source": [
    "maths_circus(message=\"I love clowns\", num=9)"
   ]
  },
  {
   "cell_type": "markdown",
   "metadata": {
    "slideshow": {
     "slide_type": "subslide"
    }
   },
   "source": [
    "Parameters can also be given default values, then they can be skipped by the client unless they wish to override the default"
   ]
  },
  {
   "cell_type": "code",
   "execution_count": 170,
   "metadata": {},
   "outputs": [
    {
     "name": "stdout",
     "output_type": "stream",
     "text": [
      "We are shouting, 'what have the Romans ever done for us?', for you\n"
     ]
    },
    {
     "data": {
      "text/plain": [
       "343"
      ]
     },
     "execution_count": 170,
     "metadata": {},
     "output_type": "execute_result"
    }
   ],
   "source": [
    "def maths_circus(num=7, message=\"what have the Romans ever done for us?\"):\n",
    "    '''A noisy cuber, with defaults'''\n",
    "    print(\"We are shouting, '\", message, \"', for you\", sep=\"\")\n",
    "    n = num**3\n",
    "    return n\n",
    "maths_circus()"
   ]
  },
  {
   "cell_type": "code",
   "execution_count": 171,
   "metadata": {
    "slideshow": {
     "slide_type": "fragment"
    }
   },
   "outputs": [
    {
     "name": "stdout",
     "output_type": "stream",
     "text": [
      "We are shouting, 'what have the Romans ever done for us?', for you\n"
     ]
    },
    {
     "data": {
      "text/plain": [
       "-8"
      ]
     },
     "execution_count": 171,
     "metadata": {},
     "output_type": "execute_result"
    }
   ],
   "source": [
    "maths_circus(num=-2)"
   ]
  },
  {
   "cell_type": "code",
   "execution_count": 172,
   "metadata": {},
   "outputs": [
    {
     "name": "stdout",
     "output_type": "stream",
     "text": [
      "We are shouting, 'roads, vineculture, public baths, ...', for you\n"
     ]
    },
    {
     "data": {
      "text/plain": [
       "343"
      ]
     },
     "execution_count": 172,
     "metadata": {},
     "output_type": "execute_result"
    }
   ],
   "source": [
    "maths_circus(message=\"roads, vineculture, public baths, ...\")"
   ]
  },
  {
   "cell_type": "code",
   "execution_count": 173,
   "metadata": {},
   "outputs": [
    {
     "name": "stdout",
     "output_type": "stream",
     "text": [
      "We are shouting, 'confuse a cat', for you\n"
     ]
    },
    {
     "data": {
      "text/plain": [
       "-64"
      ]
     },
     "execution_count": 173,
     "metadata": {},
     "output_type": "execute_result"
    }
   ],
   "source": [
    "maths_circus(message=\"confuse a cat\", num=-4)"
   ]
  },
  {
   "cell_type": "markdown",
   "metadata": {
    "slideshow": {
     "slide_type": "subslide"
    }
   },
   "source": [
    "## Optional Arguments\n",
    "\n",
    "Somtimes functions need to be able to take *arbitrary* numbers of arguments, which Python can allow using the `*args` and the `**kwargs` parameters\n",
    "\n",
    "If a function defines these special argument types then\n",
    "\n",
    "* `args` will be a list of all positional parameters (in the order given)\n",
    "* `kwargs` will be a dictionary of named arguments, with the key being the name"
   ]
  },
  {
   "cell_type": "code",
   "execution_count": 181,
   "metadata": {
    "slideshow": {
     "slide_type": "fragment"
    }
   },
   "outputs": [
    {
     "name": "stdout",
     "output_type": "stream",
     "text": [
      "debug: True\n",
      "hello\n",
      "These are the positional arguments (1, 2, 4)\n",
      "These are the named arguments {'alice': 'good', 'bob': 'good', 'eve': 'spy'}\n"
     ]
    }
   ],
   "source": [
    "def mill(debug, *args, mesg=\"starting\", **kwargs):\n",
    "    '''Process all arguments'''\n",
    "    print(\"debug:\", debug)\n",
    "    print(mesg)\n",
    "    print(\"These are the positional arguments\", args)\n",
    "    print(\"These are the named arguments\", kwargs)\n",
    "\n",
    "mill(True, 1, 2, 4, mesg=\"hello\", alice=\"good\", bob=\"good\", eve=\"spy\")"
   ]
  },
  {
   "cell_type": "markdown",
   "metadata": {},
   "source": [
    "Do not use these argument types to be lazy - it can be very difficult to debug functions that support arbitrary arguments (e.g., misspelling an argument name is a bugbear here)"
   ]
  },
  {
   "cell_type": "markdown",
   "metadata": {
    "slideshow": {
     "slide_type": "slide"
    }
   },
   "source": [
    "# Python Scripts\n",
    "\n",
    "So far we have worked in the Python interpeter\n",
    "\n",
    "This is a fantastic way to explore python and work interactively, but in many cases we want to work in a *hands off* manner\n",
    "\n",
    "In this case, we would rather save our work in a file and get the Python interpreter to execute it for us"
   ]
  },
  {
   "cell_type": "markdown",
   "metadata": {
    "slideshow": {
     "slide_type": "fragment"
    }
   },
   "source": [
    "```py\n",
    "$ cat hello.py\n",
    "#!/usr/bin/env python\n",
    "print(\"hello, world!\")\n",
    "```\n"
   ]
  },
  {
   "cell_type": "markdown",
   "metadata": {
    "slideshow": {
     "slide_type": "-"
    }
   },
   "source": [
    "```sh\n",
    "$ python hello.py \n",
    "hello, world!\n",
    "$ ls -l hello.py \n",
    "-rwxr-xr-x  1 graemes  staff  45 15 Sep 13:40 hello.py\n",
    "$ ./hello.py \n",
    "hello, world!\n",
    "```\n"
   ]
  },
  {
   "cell_type": "markdown",
   "metadata": {
    "slideshow": {
     "slide_type": "subslide"
    }
   },
   "source": [
    "```py\n",
    "#!/usr/bin/env python\n",
    "print(\"hello, world!\")\n",
    "```\n",
    "\n",
    "* Execute the script directly with python by giving it as the argument, `python hello.py`\n",
    "* On Linux / OS X we can\n",
    "  * Use the magic shebang `#!` at the start of the file so that the loader invokes python for us\n",
    "  * Use `/usr/bin/env python` so that the version of Python is found from `PATH`\n",
    "  * The script also needs to be marked as executable: `chmod a+x hello.py`\n"
   ]
  },
  {
   "cell_type": "markdown",
   "metadata": {
    "slideshow": {
     "slide_type": "subslide"
    }
   },
   "source": [
    "## Passing arguments to scripts\n",
    "\n",
    "Let's look at another version of our hello script:"
   ]
  },
  {
   "cell_type": "markdown",
   "metadata": {},
   "source": [
    "```py\n",
    "#!/usr/bin/env python\n",
    "import argparse\n",
    "\n",
    "parser = argparse.ArgumentParser(description=\"Say hello\")\n",
    "parser.add_argument('--name')\n",
    "\n",
    "args = parser.parse_args()\n",
    "\n",
    "print(\"hello,\", args.name)\n",
    "```"
   ]
  },
  {
   "cell_type": "markdown",
   "metadata": {
    "slideshow": {
     "slide_type": "fragment"
    }
   },
   "source": [
    "```sh\n",
    "$ ./hello-args.py \n",
    "hello, None\n",
    "$ ./hello-args.py --name Brian\n",
    "hello, Brian\n",
    "$ ./hello-args.py --help\n",
    "usage: hello-args.py [-h] [--name NAME]\n",
    "\n",
    "Say hello\n",
    "\n",
    "optional arguments:\n",
    "  -h, --help   show this help message and exit\n",
    "  --name NAME\n",
    "```"
   ]
  },
  {
   "cell_type": "markdown",
   "metadata": {
    "slideshow": {
     "slide_type": "slide"
    }
   },
   "source": [
    "# Python Modules\n",
    "\n",
    "There was a lot there! The first thing in the script was to import a Python *module*: `import argparse`\n",
    "\n",
    "Modules are the way that Python extends functionality - it's one of the huge advantages of Python that it has such a rich set of modules that provide well written and easy to use extensions to the core language\n",
    "\n",
    "In this case we imported the `argparse` module, which is a standard Python module provided by all Python installations\n"
   ]
  },
  {
   "cell_type": "code",
   "execution_count": 175,
   "metadata": {},
   "outputs": [],
   "source": [
    "import argparse\n",
    "argparse?"
   ]
  },
  {
   "cell_type": "markdown",
   "metadata": {},
   "source": [
    "Python modules usually provide well written interfaces with additional functionalty - you might write your own parser for arguments passed in to your script, but making it robust and providing funtionality like the `--help` option would take a lot of time\n",
    "\n",
    "The Python documentation lists the many, many [modules that are available](https://docs.python.org/3/py-modindex.html) in every standard Python installation\n",
    "\n",
    "In addition many other modules come pacakaged with, e.g., the [Anaconda Python distribution](https://www.anaconda.com/) or through the standard [*PyPI*](https://pypi.org/) (Python Package Index) repository, installed with `pip`"
   ]
  },
  {
   "cell_type": "markdown",
   "metadata": {
    "slideshow": {
     "slide_type": "subslide"
    }
   },
   "source": [
    "# Importing from modules\n",
    "\n",
    "When we import from a module by default, the module name is added to the namespace and the module's functions and other memebers become available to us under that name"
   ]
  },
  {
   "cell_type": "code",
   "execution_count": 183,
   "metadata": {
    "slideshow": {
     "slide_type": "fragment"
    }
   },
   "outputs": [
    {
     "data": {
      "text/plain": [
       "'/Users/graemes/anaconda3/bin:/Users/graemes/anaconda3/bin:/Users/graemes/bin:/usr/local/bin:/Users/graemes/bin:/usr/local/bin:/usr/local/bin:/usr/bin:/bin:/usr/sbin:/sbin:/Library/TeX/texbin:/opt/X11/bin:/sbin:/usr/sbin:/usr/local/sbin:/sbin:/usr/sbin:/usr/local/sbin'"
      ]
     },
     "execution_count": 183,
     "metadata": {},
     "output_type": "execute_result"
    }
   ],
   "source": [
    "import os            # Import the os module (this is a really common one as it allows many core interactions with \n",
    "                     # the underlying system)\n",
    "os.environ[\"PATH\"]   # environ is a dictionary with the current envionment set, and it's not in the os part of the namespace"
   ]
  },
  {
   "cell_type": "markdown",
   "metadata": {
    "slideshow": {
     "slide_type": "fragment"
    }
   },
   "source": [
    "However, we can also import pieces of a module directly into the top level of the namespace, or import a module or member with a different name"
   ]
  },
  {
   "cell_type": "code",
   "execution_count": 184,
   "metadata": {},
   "outputs": [
    {
     "name": "stdout",
     "output_type": "stream",
     "text": [
      "/Users/graemes/anaconda3/bin/python\n"
     ]
    }
   ],
   "source": [
    "from sys import executable\n",
    "print(executable)"
   ]
  },
  {
   "cell_type": "code",
   "execution_count": 186,
   "metadata": {},
   "outputs": [
    {
     "data": {
      "text/plain": [
       "3.0"
      ]
     },
     "execution_count": 186,
     "metadata": {},
     "output_type": "execute_result"
    }
   ],
   "source": [
    "import math as maths # The British would have called it maths...\n",
    "maths.sqrt(9)"
   ]
  },
  {
   "cell_type": "code",
   "execution_count": 187,
   "metadata": {},
   "outputs": [
    {
     "name": "stdout",
     "output_type": "stream",
     "text": [
      "6.283185307179586\n"
     ]
    }
   ],
   "source": [
    "from math import pi as half_tau\n",
    "tau = 2.0 * half_tau\n",
    "print(tau)"
   ]
  },
  {
   "cell_type": "markdown",
   "metadata": {},
   "source": [
    "(It's also possible to import all objects from a module into the top level namespace in Python, using `from module import *` - this is really dangerous and should be avoided as it becomes extremely hard to know how the namespace was populated)"
   ]
  },
  {
   "cell_type": "markdown",
   "metadata": {
    "slideshow": {
     "slide_type": "slide"
    }
   },
   "source": [
    "# Classes\n",
    "\n",
    "Classes are at the core of all object oriented programming languages, and Python is no exception\n",
    "\n",
    "Python has a very natural way of defining and expressing classes - let's look at a simple example"
   ]
  },
  {
   "cell_type": "code",
   "execution_count": 194,
   "metadata": {
    "slideshow": {
     "slide_type": "fragment"
    }
   },
   "outputs": [
    {
     "name": "stdout",
     "output_type": "stream",
     "text": [
      "2\n"
     ]
    }
   ],
   "source": [
    "class CounterClass:\n",
    "    def __init__(self):\n",
    "        self.counter = 0\n",
    "        \n",
    "    def add(self):\n",
    "        self.counter += 1\n",
    "        \n",
    "    def reset(self):\n",
    "        self.counter = 0\n",
    "        \n",
    "    def get(self):\n",
    "        return self.counter\n",
    "    \n",
    "c = CounterClass()\n",
    "c.add(); c.add()\n",
    "print(c.get())"
   ]
  },
  {
   "cell_type": "code",
   "execution_count": 195,
   "metadata": {},
   "outputs": [
    {
     "name": "stdout",
     "output_type": "stream",
     "text": [
      "0\n"
     ]
    }
   ],
   "source": [
    "c.reset()\n",
    "print(c.get())"
   ]
  },
  {
   "cell_type": "markdown",
   "metadata": {
    "slideshow": {
     "slide_type": "subslide"
    }
   },
   "source": [
    "Some of the key features to note:\n",
    "```py\n",
    "class CounterClass:\n",
    "    def __init__(self):\n",
    "        self.counter = 0\n",
    "        \n",
    "    def add(self):\n",
    "        self.counter += 1\n",
    "...```\n",
    "\n",
    "* The keyword `class` introduces a class definition in its following code clock\n",
    "  * The class will define a new type in the current scope\n",
    "* Class methods are defined very like functions, using `def`\n",
    "  * The first parameter is the class instance itself, by convention always called `self`\n",
    "* The special method `__init__` is called when an instance of the class is created (a.k.a. a constructor)\n",
    "* All data members of the class are referenced via the object instance, `self`\n",
    "  * `self.counter` is a *data member* of the class\n",
    "  * `counter` would be a plain local variable (watch out!)"
   ]
  },
  {
   "cell_type": "markdown",
   "metadata": {
    "slideshow": {
     "slide_type": "subslide"
    }
   },
   "source": [
    "Just as an aside, when we say that Python is a dyanmic language, it means that even classes can be modified dyanmically:"
   ]
  },
  {
   "cell_type": "code",
   "execution_count": 200,
   "metadata": {
    "slideshow": {
     "slide_type": "fragment"
    }
   },
   "outputs": [
    {
     "name": "stdout",
     "output_type": "stream",
     "text": [
      "7\n"
     ]
    }
   ],
   "source": [
    "def set(self, n):\n",
    "    self.counter = n\n",
    "\n",
    "# Add the \"set\" function as a new method to the class\n",
    "CounterClass.set = set\n",
    "c.set(7)\n",
    "print(c.get())"
   ]
  },
  {
   "cell_type": "code",
   "execution_count": 201,
   "metadata": {},
   "outputs": [
    {
     "name": "stdout",
     "output_type": "stream",
     "text": [
      "we just added a new data member as well\n"
     ]
    }
   ],
   "source": [
    "CounterClass.msg = \"we just added a new data member as well\"\n",
    "print(c.msg)"
   ]
  },
  {
   "cell_type": "markdown",
   "metadata": {
    "slideshow": {
     "slide_type": "subslide"
    }
   },
   "source": [
    "## Classes, Scopes and Namespaces\n",
    "\n",
    "Python implements classes as a new data type, which means that they have their own scope and namespace\n",
    "\n",
    "To find out what attributes are defined in a scope we can use the Python builtin `dir` function"
   ]
  },
  {
   "cell_type": "code",
   "execution_count": 202,
   "metadata": {},
   "outputs": [
    {
     "data": {
      "text/plain": [
       "['__class__',\n",
       " '__delattr__',\n",
       " '__dict__',\n",
       " '__dir__',\n",
       " '__doc__',\n",
       " '__eq__',\n",
       " '__format__',\n",
       " '__ge__',\n",
       " '__getattribute__',\n",
       " '__gt__',\n",
       " '__hash__',\n",
       " '__init__',\n",
       " '__init_subclass__',\n",
       " '__le__',\n",
       " '__lt__',\n",
       " '__module__',\n",
       " '__ne__',\n",
       " '__new__',\n",
       " '__reduce__',\n",
       " '__reduce_ex__',\n",
       " '__repr__',\n",
       " '__setattr__',\n",
       " '__sizeof__',\n",
       " '__str__',\n",
       " '__subclasshook__',\n",
       " '__weakref__',\n",
       " 'add',\n",
       " 'counter',\n",
       " 'get',\n",
       " 'msg',\n",
       " 'reset',\n",
       " 'set']"
      ]
     },
     "execution_count": 202,
     "metadata": {},
     "output_type": "execute_result"
    }
   ],
   "source": [
    "dir(c)"
   ]
  },
  {
   "cell_type": "markdown",
   "metadata": {
    "slideshow": {
     "slide_type": "subslide"
    }
   },
   "source": [
    "## Subclasses and Inheritance\n",
    "\n",
    "Python classes can also inherit from other classes, becoming subclasses - this allows objects which extend or specilaise the classes that they inherit from in the usual object oriented way"
   ]
  },
  {
   "cell_type": "code",
   "execution_count": 204,
   "metadata": {
    "slideshow": {
     "slide_type": "-"
    }
   },
   "outputs": [],
   "source": [
    "class Poly2:\n",
    "    def __init__(self, x=0, y=0):\n",
    "        self.x = x\n",
    "        self.y = y\n",
    "\n",
    "class Rectangle(Poly2):\n",
    "    def area(self):\n",
    "        return self.x*self.y\n",
    "        \n",
    "class Triangle(Poly2):\n",
    "    def area(self):\n",
    "        return self.x*self.y/2.0"
   ]
  },
  {
   "cell_type": "code",
   "execution_count": 206,
   "metadata": {
    "slideshow": {
     "slide_type": "fragment"
    }
   },
   "outputs": [
    {
     "name": "stdout",
     "output_type": "stream",
     "text": [
      "15\n"
     ]
    }
   ],
   "source": [
    "rect=Rectangle(3,5)\n",
    "print(rect.area())"
   ]
  },
  {
   "cell_type": "code",
   "execution_count": 207,
   "metadata": {},
   "outputs": [
    {
     "name": "stdout",
     "output_type": "stream",
     "text": [
      "20.0\n"
     ]
    }
   ],
   "source": [
    "tri=Triangle(10,4)\n",
    "print(tri.area())"
   ]
  },
  {
   "cell_type": "code",
   "execution_count": 211,
   "metadata": {},
   "outputs": [
    {
     "data": {
      "text/plain": [
       "False"
      ]
     },
     "execution_count": 211,
     "metadata": {},
     "output_type": "execute_result"
    }
   ],
   "source": [
    "picasso=Poly2()\n",
    "'area' in dir(picasso) # This is a way to ask the object if it has an attribute of that name"
   ]
  },
  {
   "cell_type": "markdown",
   "metadata": {
    "slideshow": {
     "slide_type": "subslide"
    }
   },
   "source": [
    "So much for extending classes, we can override methods from the base classes as well:"
   ]
  },
  {
   "cell_type": "code",
   "execution_count": 217,
   "metadata": {},
   "outputs": [
    {
     "name": "stdout",
     "output_type": "stream",
     "text": [
      "16\n"
     ]
    }
   ],
   "source": [
    "class Square(Rectangle):\n",
    "    def init(self, x=0):\n",
    "        self.x = x\n",
    "        \n",
    "    def area(self):\n",
    "        return self.x**2\n",
    "\n",
    "sq=Square(4)\n",
    "print(sq.area())"
   ]
  },
  {
   "cell_type": "markdown",
   "metadata": {},
   "source": [
    "The way that Python searches for attribures in a derived class is to search the derived class first, then any parent classes, so the derived class's definition wins out\n",
    "\n",
    "The derived class can call methods in the parent class - have a look at [`super()`](https://docs.python.org/3/library/functions.html#super)"
   ]
  },
  {
   "cell_type": "markdown",
   "metadata": {
    "slideshow": {
     "slide_type": "slide"
    }
   },
   "source": [
    "# Errors and Exceptions\n",
    "\n",
    "So far all of the simple examples we looked at here have worked as expected - real life isn't like that and things are definiately going to go wrong\n",
    "\n",
    "So how do we deal with errors in Python?\n",
    "\n",
    "When something mis-fires in Python an *exception* is raised:"
   ]
  },
  {
   "cell_type": "code",
   "execution_count": 218,
   "metadata": {
    "slideshow": {
     "slide_type": "fragment"
    }
   },
   "outputs": [
    {
     "ename": "AttributeError",
     "evalue": "'str' object has no attribute 'fnd'",
     "output_type": "error",
     "traceback": [
      "\u001b[0;31m---------------------------------------------------------------------------\u001b[0m",
      "\u001b[0;31mAttributeError\u001b[0m                            Traceback (most recent call last)",
      "\u001b[0;32m<ipython-input-218-b92c37e840e4>\u001b[0m in \u001b[0;36m<module>\u001b[0;34m()\u001b[0m\n\u001b[1;32m      1\u001b[0m \u001b[0mst\u001b[0m\u001b[0;34m=\u001b[0m\u001b[0;34m\"bring out your dead\"\u001b[0m\u001b[0;34m\u001b[0m\u001b[0m\n\u001b[0;32m----> 2\u001b[0;31m \u001b[0mst\u001b[0m\u001b[0;34m.\u001b[0m\u001b[0mfnd\u001b[0m\u001b[0;34m(\u001b[0m\u001b[0;34m\"dead\"\u001b[0m\u001b[0;34m)\u001b[0m\u001b[0;34m\u001b[0m\u001b[0m\n\u001b[0m",
      "\u001b[0;31mAttributeError\u001b[0m: 'str' object has no attribute 'fnd'"
     ]
    }
   ],
   "source": [
    "st=\"bring out your dead\"\n",
    "st.fnd(\"dead\")"
   ]
  },
  {
   "cell_type": "code",
   "execution_count": 219,
   "metadata": {
    "slideshow": {
     "slide_type": "fragment"
    }
   },
   "outputs": [
    {
     "ename": "ZeroDivisionError",
     "evalue": "division by zero",
     "output_type": "error",
     "traceback": [
      "\u001b[0;31m---------------------------------------------------------------------------\u001b[0m",
      "\u001b[0;31mZeroDivisionError\u001b[0m                         Traceback (most recent call last)",
      "\u001b[0;32m<ipython-input-219-c9c159640ca7>\u001b[0m in \u001b[0;36m<module>\u001b[0;34m()\u001b[0m\n\u001b[1;32m      1\u001b[0m \u001b[0mx\u001b[0m\u001b[0;34m=\u001b[0m\u001b[0;36m7\u001b[0m\u001b[0;34m;\u001b[0m \u001b[0my\u001b[0m\u001b[0;34m=\u001b[0m\u001b[0;36m5\u001b[0m\u001b[0;34m\u001b[0m\u001b[0m\n\u001b[0;32m----> 2\u001b[0;31m \u001b[0mprint\u001b[0m\u001b[0;34m(\u001b[0m\u001b[0mx\u001b[0m\u001b[0;34m/\u001b[0m\u001b[0;34m(\u001b[0m\u001b[0my\u001b[0m\u001b[0;34m-\u001b[0m\u001b[0;36m5\u001b[0m\u001b[0;34m)\u001b[0m\u001b[0;34m)\u001b[0m\u001b[0;34m\u001b[0m\u001b[0m\n\u001b[0m",
      "\u001b[0;31mZeroDivisionError\u001b[0m: division by zero"
     ]
    }
   ],
   "source": [
    "x=7; y=5\n",
    "print(x/(y-5))"
   ]
  },
  {
   "cell_type": "markdown",
   "metadata": {
    "slideshow": {
     "slide_type": "subslide"
    }
   },
   "source": [
    "## Handling exceptions\n",
    "\n",
    "The way to handle exceptions in Python is to use a `try... except...` block:"
   ]
  },
  {
   "cell_type": "code",
   "execution_count": 220,
   "metadata": {},
   "outputs": [
    {
     "name": "stdout",
     "output_type": "stream",
     "text": [
      "please don't divide by zero\n"
     ]
    }
   ],
   "source": [
    "try:\n",
    "    x=7; y=5\n",
    "    print(x/(y-5))\n",
    "except ZeroDivisionError:\n",
    "    print(\"please don't divide by zero\")"
   ]
  },
  {
   "cell_type": "markdown",
   "metadata": {
    "slideshow": {
     "slide_type": "fragment"
    }
   },
   "source": [
    "There can be multiple `except` blocks, for handling different errors that might happen:"
   ]
  },
  {
   "cell_type": "code",
   "execution_count": 228,
   "metadata": {},
   "outputs": [
    {
     "name": "stdout",
     "output_type": "stream",
     "text": [
      "Failure opening file\n"
     ]
    }
   ],
   "source": [
    "try:\n",
    "    f=open(\"/tmp-file.txt\", \"w\")\n",
    "    print(\"some text\", file=f)\n",
    "except OSError:\n",
    "    print(\"Failure opening file\")\n",
    "except IOError:\n",
    "    print(\"Error writing to file\")"
   ]
  },
  {
   "cell_type": "markdown",
   "metadata": {
    "slideshow": {
     "slide_type": "subslide"
    }
   },
   "source": [
    "If you want to handle multiple exceptions with one piece of code, you can use `as` to set a local variable with one of a few exceptions"
   ]
  },
  {
   "cell_type": "code",
   "execution_count": 227,
   "metadata": {},
   "outputs": [
    {
     "name": "stdout",
     "output_type": "stream",
     "text": [
      "Failure during file handling: [Errno 13] Permission denied: '/tmp-file.txt'\n"
     ]
    }
   ],
   "source": [
    "try:\n",
    "    f=open(\"/tmp-file.txt\", \"w\")\n",
    "    print(\"some text\", file=f)\n",
    "except (OSError, IOError) as e:\n",
    "    print(\"Failure during file handling:\", e)"
   ]
  },
  {
   "cell_type": "markdown",
   "metadata": {},
   "source": [
    "Notice also that exceptions are printable, and provide some normally helpful text"
   ]
  },
  {
   "cell_type": "markdown",
   "metadata": {
    "slideshow": {
     "slide_type": "fragment"
    }
   },
   "source": [
    "Exceptions are code blocks and can nest other exception handlers inside themselves, so it's possible to structure your error handling and (possible) recovery in fairly sophisticated ways"
   ]
  },
  {
   "cell_type": "code",
   "execution_count": 230,
   "metadata": {},
   "outputs": [
    {
     "name": "stdout",
     "output_type": "stream",
     "text": [
      "0\r\n"
     ]
    }
   ],
   "source": [
    "def divider(x, y):\n",
    "    try:\n",
    "        a = x/y\n",
    "    except ZeroDivisionError:\n",
    "        a = 0\n",
    "    return a\n",
    "\n",
    "try:\n",
    "    f=open(\"tmp-file.txt\", \"w\")\n",
    "    print(divider(7,0), file=f)\n",
    "except (OSError, IOError) as e:\n",
    "    print(\"Failure during file handling:\", e)\n",
    "\n",
    "# Note this below - an ipython special that allows us to execute a shell command\n",
    "!cat tmp-file.txt"
   ]
  },
  {
   "cell_type": "markdown",
   "metadata": {
    "slideshow": {
     "slide_type": "subslide"
    }
   },
   "source": [
    "If your own code needs to generate an exception, use `raise`:"
   ]
  },
  {
   "cell_type": "code",
   "execution_count": 226,
   "metadata": {},
   "outputs": [
    {
     "ename": "RuntimeError",
     "evalue": "Not enough money to buy",
     "output_type": "error",
     "traceback": [
      "\u001b[0;31m---------------------------------------------------------------------------\u001b[0m",
      "\u001b[0;31mRuntimeError\u001b[0m                              Traceback (most recent call last)",
      "\u001b[0;32m<ipython-input-226-a4aae3ab86ec>\u001b[0m in \u001b[0;36m<module>\u001b[0;34m()\u001b[0m\n\u001b[1;32m      4\u001b[0m     \u001b[0mmoney\u001b[0m \u001b[0;34m-=\u001b[0m \u001b[0mprice\u001b[0m\u001b[0;34m\u001b[0m\u001b[0m\n\u001b[1;32m      5\u001b[0m \u001b[0;34m\u001b[0m\u001b[0m\n\u001b[0;32m----> 6\u001b[0;31m \u001b[0mbuy\u001b[0m\u001b[0;34m(\u001b[0m\u001b[0;36m100.0\u001b[0m\u001b[0;34m,\u001b[0m \u001b[0;36m50.0\u001b[0m\u001b[0;34m)\u001b[0m\u001b[0;34m\u001b[0m\u001b[0m\n\u001b[0m",
      "\u001b[0;32m<ipython-input-226-a4aae3ab86ec>\u001b[0m in \u001b[0;36mbuy\u001b[0;34m(price, money)\u001b[0m\n\u001b[1;32m      1\u001b[0m \u001b[0;32mdef\u001b[0m \u001b[0mbuy\u001b[0m\u001b[0;34m(\u001b[0m\u001b[0mprice\u001b[0m\u001b[0;34m,\u001b[0m \u001b[0mmoney\u001b[0m\u001b[0;34m)\u001b[0m\u001b[0;34m:\u001b[0m\u001b[0;34m\u001b[0m\u001b[0m\n\u001b[1;32m      2\u001b[0m     \u001b[0;32mif\u001b[0m \u001b[0mmoney\u001b[0m \u001b[0;34m<\u001b[0m \u001b[0mprice\u001b[0m\u001b[0;34m:\u001b[0m\u001b[0;34m\u001b[0m\u001b[0m\n\u001b[0;32m----> 3\u001b[0;31m         \u001b[0;32mraise\u001b[0m \u001b[0mRuntimeError\u001b[0m\u001b[0;34m(\u001b[0m\u001b[0;34m\"Not enough money to buy\"\u001b[0m\u001b[0;34m)\u001b[0m\u001b[0;34m\u001b[0m\u001b[0m\n\u001b[0m\u001b[1;32m      4\u001b[0m     \u001b[0mmoney\u001b[0m \u001b[0;34m-=\u001b[0m \u001b[0mprice\u001b[0m\u001b[0;34m\u001b[0m\u001b[0m\n\u001b[1;32m      5\u001b[0m \u001b[0;34m\u001b[0m\u001b[0m\n",
      "\u001b[0;31mRuntimeError\u001b[0m: Not enough money to buy"
     ]
    }
   ],
   "source": [
    "def buy(price, money):\n",
    "    if money < price:\n",
    "        raise RuntimeError(\"Not enough money to buy\")\n",
    "    money -= price\n",
    "\n",
    "buy(100.0, 50.0)"
   ]
  },
  {
   "cell_type": "markdown",
   "metadata": {
    "slideshow": {
     "slide_type": "fragment"
    }
   },
   "source": [
    "If you are writing anything other than trivial code, you will want to define exception classes for you own program, which Python makes it easy to do, as you can just inherit from the built in `Exception` class"
   ]
  },
  {
   "cell_type": "code",
   "execution_count": 232,
   "metadata": {},
   "outputs": [],
   "source": [
    "class TutorialException(Exception):\n",
    "    pass # pass is a very handy bit of python syntax used for supporting an empty code block"
   ]
  },
  {
   "cell_type": "markdown",
   "metadata": {
    "slideshow": {
     "slide_type": "slide"
    }
   },
   "source": [
    "# Bringing it all back home...\n",
    "\n",
    "We saw a lot of features of the Python language now - but you probably feel a bit like someone who saw a lot of woodworking tools and is now thinking, \"ok, but how to I actually build a box, a chair, a house...\"?\n",
    "\n",
    "Here, there is no subsitute for learning the craft; you just have to work patiently and perfect your skills and at some point your *masterpiece* will be done\n",
    "\n",
    "However, we all learn from the community and each other and at least seeing some more complete examples is going to help guide your own explorations\n",
    "\n",
    "![Tim Stead](images/tim-stead-chapel.jpg)"
   ]
  },
  {
   "cell_type": "markdown",
   "metadata": {
    "slideshow": {
     "slide_type": "subslide"
    }
   },
   "source": [
    "# Exploring Higgs Data\n",
    "\n",
    "In this example we're going to use Python to explore some particle physics data, in this case a subset of the data that was used during the [Higgs Boson Machine Learning Challenge](https://www.kaggle.com/c/higgs-boson) on [Kaggle](https://www.kaggle.com/)\n",
    "\n",
    "![ATLAS Higgs Event](images/ATLASEXP_image.png)\n",
    "\n",
    "* In this example we'll use the [Anaconda](https://www.anaconda.com/download) 5.2 distribution that bundles up a Python 3.6 build together with a huge number of packages for Python based data science\n",
    "* This is not at all the only way to get all of the packages that we need, but it is convenient and robust, so it's definitely one of the easiest ways"
   ]
  },
  {
   "cell_type": "markdown",
   "metadata": {
    "slideshow": {
     "slide_type": "subslide"
    }
   },
   "source": [
    "### A first look at the data\n",
    "\n",
    "The data sample we'll work with is in `src/small-training.csv`, let's see what it looks like..."
   ]
  },
  {
   "cell_type": "code",
   "execution_count": 233,
   "metadata": {},
   "outputs": [
    {
     "name": "stdout",
     "output_type": "stream",
     "text": [
      "EventId,DER_mass_MMC,DER_mass_transverse_met_lep,DER_mass_vis,DER_pt_h,DER_deltaeta_jet_jet,DER_mass_jet_jet,DER_prodeta_jet_jet,DER_deltar_tau_lep,DER_pt_tot,DER_sum_pt,DER_pt_ratio_lep_tau,DER_met_phi_centrality,DER_lep_eta_centrality,PRI_tau_pt,PRI_tau_eta,PRI_tau_phi,PRI_lep_pt,PRI_lep_eta,PRI_lep_phi,PRI_met,PRI_met_phi,PRI_met_sumet,PRI_jet_num,PRI_jet_leading_pt,PRI_jet_leading_eta,PRI_jet_leading_phi,PRI_jet_subleading_pt,PRI_jet_subleading_eta,PRI_jet_subleading_phi,PRI_jet_all_pt,Weight,Label\r\n",
      "100000,138.47,51.655,97.827,27.98,0.91,124.711,2.666,3.064,41.928,197.76,1.582,1.396,0.2,32.638,1.017,0.381,51.626,2.273,-2.414,16.824,-0.277,258.733,2,67.435,2.15,0.444,46.062,1.24,-2.475,113.497,0.00265331133733,s\r\n",
      "100001,160.937,68.768,103.235,48.146,-999.0,-999.0,-999.0,3.473,2.078,125.157,0.879,1.414,-999.0,42.014,2.039,-3.011,36.918,0.501,0.103,44.704,-1.916,164.546,1,46.226,0.725,1.158,-999.0,-999.0,-999.0,46.226,2.23358448717,b\r\n",
      "100002,-999.0,162.172,125.953,35.635,-999.0,-999.0,-999.0,3.148,9.336,197.814,3.776,1.414,-999.0,32.154,-0.705,-2.093,121.409,-0.953,1.052,54.283,-2.186,260.414,1,44.251,2.053,-2.028,-999.0,-999.0,-999.0,44.251,2.34738894364,b\r\n",
      "100003,143.905,81.417,80.943,0.414,-999.0,-999.0,-999.0,3.31,0.414,75.968,2.354,-1.285,-999.0,22.647,-1.655,0.01,53.321,-0.522,-3.1,31.082,0.06,86.062,0,-999.0,-999.0,-999.0,-999.0,-999.0,-999.0,-0.0,5.44637821192,b\r\n",
      "100004,175.864,16.915,134.805,16.405,-999.0,-999.0,-999.0,3.891,16.405,57.983,1.056,-1.385,-999.0,28.209,-2.197,-2.231,29.774,0.798,1.569,2.723,-0.871,53.131,0,-999.0,-999.0,-999.0,-999.0,-999.0,-999.0,0.0,6.24533268686,b\r\n",
      "100005,89.744,13.55,59.149,116.344,2.636,284.584,-0.54,1.362,61.619,278.876,0.588,0.479,0.975,53.651,0.371,1.329,31.565,-0.884,1.857,40.735,2.237,282.849,3,90.547,-2.412,-0.653,56.165,0.224,3.106,193.66,0.0834140312717,b\r\n",
      "100006,148.754,28.862,107.782,106.13,0.733,158.359,0.113,2.941,2.545,305.967,3.371,1.393,0.791,28.85,1.113,2.409,97.24,0.675,-0.966,38.421,-1.443,294.074,2,123.01,0.864,1.45,56.867,0.131,-2.767,179.877,0.00265331133733,s\r\n",
      "100007,154.916,10.418,94.714,29.169,-999.0,-999.0,-999.0,2.897,1.526,138.178,0.365,-1.305,-999.0,78.8,0.654,1.547,28.74,0.506,-1.347,22.275,-1.761,187.299,1,30.638,-0.715,-1.724,-999.0,-999.0,-999.0,30.638,0.018636116672,s\r\n",
      "100008,105.594,50.559,100.989,4.288,-999.0,-999.0,-999.0,2.904,4.288,65.333,0.675,-1.366,-999.0,39.008,2.433,-2.532,26.325,0.21,1.884,37.791,0.024,129.804,0,-999.0,-999.0,-999.0,-999.0,-999.0,-999.0,0.0,5.29600298518,b\r\n"
     ]
    }
   ],
   "source": [
    "!head src/small-training.csv"
   ]
  },
  {
   "cell_type": "markdown",
   "metadata": {},
   "source": [
    "* So we have a number of columns of data, with the first row giving the name of the data column and the subsequent rows being the values of each of the events\n",
    "* Data entries equal to `-999.0` are meaningless or uncomputed"
   ]
  },
  {
   "cell_type": "markdown",
   "metadata": {
    "slideshow": {
     "slide_type": "subslide"
    }
   },
   "source": [
    "### Pandas\n",
    "\n",
    "With what we learned in Python so far we could write our own loader for this data, but you won't be surprised to hear that we don't need to do that\n",
    "\n",
    "Instead we will use a very popoular package, called [*pandas*](https://pandas.pydata.org/) to read the data"
   ]
  },
  {
   "cell_type": "code",
   "execution_count": 235,
   "metadata": {},
   "outputs": [],
   "source": [
    "import pandas as pd\n",
    "pd?"
   ]
  },
  {
   "cell_type": "markdown",
   "metadata": {},
   "source": [
    "It's a usual convention in the Python data science community to import the `pandas` module as `pd` and we'll do the same here"
   ]
  },
  {
   "cell_type": "code",
   "execution_count": 236,
   "metadata": {
    "slideshow": {
     "slide_type": "subslide"
    }
   },
   "outputs": [],
   "source": [
    "higgsData = pd.read_csv(\"src/small-training.csv\")"
   ]
  },
  {
   "cell_type": "code",
   "execution_count": 240,
   "metadata": {
    "slideshow": {
     "slide_type": "fragment"
    }
   },
   "outputs": [
    {
     "data": {
      "text/html": [
       "<div>\n",
       "<style scoped>\n",
       "    .dataframe tbody tr th:only-of-type {\n",
       "        vertical-align: middle;\n",
       "    }\n",
       "\n",
       "    .dataframe tbody tr th {\n",
       "        vertical-align: top;\n",
       "    }\n",
       "\n",
       "    .dataframe thead th {\n",
       "        text-align: right;\n",
       "    }\n",
       "</style>\n",
       "<table border=\"1\" class=\"dataframe\">\n",
       "  <thead>\n",
       "    <tr style=\"text-align: right;\">\n",
       "      <th></th>\n",
       "      <th>EventId</th>\n",
       "      <th>DER_mass_MMC</th>\n",
       "      <th>DER_mass_transverse_met_lep</th>\n",
       "      <th>DER_mass_vis</th>\n",
       "      <th>DER_pt_h</th>\n",
       "      <th>DER_deltaeta_jet_jet</th>\n",
       "      <th>DER_mass_jet_jet</th>\n",
       "      <th>DER_prodeta_jet_jet</th>\n",
       "      <th>DER_deltar_tau_lep</th>\n",
       "      <th>DER_pt_tot</th>\n",
       "      <th>...</th>\n",
       "      <th>PRI_jet_num</th>\n",
       "      <th>PRI_jet_leading_pt</th>\n",
       "      <th>PRI_jet_leading_eta</th>\n",
       "      <th>PRI_jet_leading_phi</th>\n",
       "      <th>PRI_jet_subleading_pt</th>\n",
       "      <th>PRI_jet_subleading_eta</th>\n",
       "      <th>PRI_jet_subleading_phi</th>\n",
       "      <th>PRI_jet_all_pt</th>\n",
       "      <th>Weight</th>\n",
       "      <th>Label</th>\n",
       "    </tr>\n",
       "  </thead>\n",
       "  <tbody>\n",
       "    <tr>\n",
       "      <th>0</th>\n",
       "      <td>100000</td>\n",
       "      <td>138.470</td>\n",
       "      <td>51.655</td>\n",
       "      <td>97.827</td>\n",
       "      <td>27.980</td>\n",
       "      <td>0.910</td>\n",
       "      <td>124.711</td>\n",
       "      <td>2.666</td>\n",
       "      <td>3.064</td>\n",
       "      <td>41.928</td>\n",
       "      <td>...</td>\n",
       "      <td>2</td>\n",
       "      <td>67.435</td>\n",
       "      <td>2.150</td>\n",
       "      <td>0.444</td>\n",
       "      <td>46.062</td>\n",
       "      <td>1.240</td>\n",
       "      <td>-2.475</td>\n",
       "      <td>113.497</td>\n",
       "      <td>0.002653</td>\n",
       "      <td>s</td>\n",
       "    </tr>\n",
       "    <tr>\n",
       "      <th>1</th>\n",
       "      <td>100001</td>\n",
       "      <td>160.937</td>\n",
       "      <td>68.768</td>\n",
       "      <td>103.235</td>\n",
       "      <td>48.146</td>\n",
       "      <td>-999.000</td>\n",
       "      <td>-999.000</td>\n",
       "      <td>-999.000</td>\n",
       "      <td>3.473</td>\n",
       "      <td>2.078</td>\n",
       "      <td>...</td>\n",
       "      <td>1</td>\n",
       "      <td>46.226</td>\n",
       "      <td>0.725</td>\n",
       "      <td>1.158</td>\n",
       "      <td>-999.000</td>\n",
       "      <td>-999.000</td>\n",
       "      <td>-999.000</td>\n",
       "      <td>46.226</td>\n",
       "      <td>2.233584</td>\n",
       "      <td>b</td>\n",
       "    </tr>\n",
       "    <tr>\n",
       "      <th>2</th>\n",
       "      <td>100002</td>\n",
       "      <td>-999.000</td>\n",
       "      <td>162.172</td>\n",
       "      <td>125.953</td>\n",
       "      <td>35.635</td>\n",
       "      <td>-999.000</td>\n",
       "      <td>-999.000</td>\n",
       "      <td>-999.000</td>\n",
       "      <td>3.148</td>\n",
       "      <td>9.336</td>\n",
       "      <td>...</td>\n",
       "      <td>1</td>\n",
       "      <td>44.251</td>\n",
       "      <td>2.053</td>\n",
       "      <td>-2.028</td>\n",
       "      <td>-999.000</td>\n",
       "      <td>-999.000</td>\n",
       "      <td>-999.000</td>\n",
       "      <td>44.251</td>\n",
       "      <td>2.347389</td>\n",
       "      <td>b</td>\n",
       "    </tr>\n",
       "    <tr>\n",
       "      <th>3</th>\n",
       "      <td>100003</td>\n",
       "      <td>143.905</td>\n",
       "      <td>81.417</td>\n",
       "      <td>80.943</td>\n",
       "      <td>0.414</td>\n",
       "      <td>-999.000</td>\n",
       "      <td>-999.000</td>\n",
       "      <td>-999.000</td>\n",
       "      <td>3.310</td>\n",
       "      <td>0.414</td>\n",
       "      <td>...</td>\n",
       "      <td>0</td>\n",
       "      <td>-999.000</td>\n",
       "      <td>-999.000</td>\n",
       "      <td>-999.000</td>\n",
       "      <td>-999.000</td>\n",
       "      <td>-999.000</td>\n",
       "      <td>-999.000</td>\n",
       "      <td>-0.000</td>\n",
       "      <td>5.446378</td>\n",
       "      <td>b</td>\n",
       "    </tr>\n",
       "    <tr>\n",
       "      <th>4</th>\n",
       "      <td>100004</td>\n",
       "      <td>175.864</td>\n",
       "      <td>16.915</td>\n",
       "      <td>134.805</td>\n",
       "      <td>16.405</td>\n",
       "      <td>-999.000</td>\n",
       "      <td>-999.000</td>\n",
       "      <td>-999.000</td>\n",
       "      <td>3.891</td>\n",
       "      <td>16.405</td>\n",
       "      <td>...</td>\n",
       "      <td>0</td>\n",
       "      <td>-999.000</td>\n",
       "      <td>-999.000</td>\n",
       "      <td>-999.000</td>\n",
       "      <td>-999.000</td>\n",
       "      <td>-999.000</td>\n",
       "      <td>-999.000</td>\n",
       "      <td>0.000</td>\n",
       "      <td>6.245333</td>\n",
       "      <td>b</td>\n",
       "    </tr>\n",
       "    <tr>\n",
       "      <th>5</th>\n",
       "      <td>100005</td>\n",
       "      <td>89.744</td>\n",
       "      <td>13.550</td>\n",
       "      <td>59.149</td>\n",
       "      <td>116.344</td>\n",
       "      <td>2.636</td>\n",
       "      <td>284.584</td>\n",
       "      <td>-0.540</td>\n",
       "      <td>1.362</td>\n",
       "      <td>61.619</td>\n",
       "      <td>...</td>\n",
       "      <td>3</td>\n",
       "      <td>90.547</td>\n",
       "      <td>-2.412</td>\n",
       "      <td>-0.653</td>\n",
       "      <td>56.165</td>\n",
       "      <td>0.224</td>\n",
       "      <td>3.106</td>\n",
       "      <td>193.660</td>\n",
       "      <td>0.083414</td>\n",
       "      <td>b</td>\n",
       "    </tr>\n",
       "    <tr>\n",
       "      <th>6</th>\n",
       "      <td>100006</td>\n",
       "      <td>148.754</td>\n",
       "      <td>28.862</td>\n",
       "      <td>107.782</td>\n",
       "      <td>106.130</td>\n",
       "      <td>0.733</td>\n",
       "      <td>158.359</td>\n",
       "      <td>0.113</td>\n",
       "      <td>2.941</td>\n",
       "      <td>2.545</td>\n",
       "      <td>...</td>\n",
       "      <td>2</td>\n",
       "      <td>123.010</td>\n",
       "      <td>0.864</td>\n",
       "      <td>1.450</td>\n",
       "      <td>56.867</td>\n",
       "      <td>0.131</td>\n",
       "      <td>-2.767</td>\n",
       "      <td>179.877</td>\n",
       "      <td>0.002653</td>\n",
       "      <td>s</td>\n",
       "    </tr>\n",
       "    <tr>\n",
       "      <th>7</th>\n",
       "      <td>100007</td>\n",
       "      <td>154.916</td>\n",
       "      <td>10.418</td>\n",
       "      <td>94.714</td>\n",
       "      <td>29.169</td>\n",
       "      <td>-999.000</td>\n",
       "      <td>-999.000</td>\n",
       "      <td>-999.000</td>\n",
       "      <td>2.897</td>\n",
       "      <td>1.526</td>\n",
       "      <td>...</td>\n",
       "      <td>1</td>\n",
       "      <td>30.638</td>\n",
       "      <td>-0.715</td>\n",
       "      <td>-1.724</td>\n",
       "      <td>-999.000</td>\n",
       "      <td>-999.000</td>\n",
       "      <td>-999.000</td>\n",
       "      <td>30.638</td>\n",
       "      <td>0.018636</td>\n",
       "      <td>s</td>\n",
       "    </tr>\n",
       "    <tr>\n",
       "      <th>8</th>\n",
       "      <td>100008</td>\n",
       "      <td>105.594</td>\n",
       "      <td>50.559</td>\n",
       "      <td>100.989</td>\n",
       "      <td>4.288</td>\n",
       "      <td>-999.000</td>\n",
       "      <td>-999.000</td>\n",
       "      <td>-999.000</td>\n",
       "      <td>2.904</td>\n",
       "      <td>4.288</td>\n",
       "      <td>...</td>\n",
       "      <td>0</td>\n",
       "      <td>-999.000</td>\n",
       "      <td>-999.000</td>\n",
       "      <td>-999.000</td>\n",
       "      <td>-999.000</td>\n",
       "      <td>-999.000</td>\n",
       "      <td>-999.000</td>\n",
       "      <td>0.000</td>\n",
       "      <td>5.296003</td>\n",
       "      <td>b</td>\n",
       "    </tr>\n",
       "    <tr>\n",
       "      <th>9</th>\n",
       "      <td>100009</td>\n",
       "      <td>128.053</td>\n",
       "      <td>88.941</td>\n",
       "      <td>69.272</td>\n",
       "      <td>193.392</td>\n",
       "      <td>-999.000</td>\n",
       "      <td>-999.000</td>\n",
       "      <td>-999.000</td>\n",
       "      <td>1.609</td>\n",
       "      <td>28.859</td>\n",
       "      <td>...</td>\n",
       "      <td>1</td>\n",
       "      <td>167.735</td>\n",
       "      <td>-2.767</td>\n",
       "      <td>-2.514</td>\n",
       "      <td>-999.000</td>\n",
       "      <td>-999.000</td>\n",
       "      <td>-999.000</td>\n",
       "      <td>167.735</td>\n",
       "      <td>0.001502</td>\n",
       "      <td>s</td>\n",
       "    </tr>\n",
       "  </tbody>\n",
       "</table>\n",
       "<p>10 rows × 33 columns</p>\n",
       "</div>"
      ],
      "text/plain": [
       "   EventId  DER_mass_MMC  DER_mass_transverse_met_lep  DER_mass_vis  DER_pt_h  \\\n",
       "0   100000       138.470                       51.655        97.827    27.980   \n",
       "1   100001       160.937                       68.768       103.235    48.146   \n",
       "2   100002      -999.000                      162.172       125.953    35.635   \n",
       "3   100003       143.905                       81.417        80.943     0.414   \n",
       "4   100004       175.864                       16.915       134.805    16.405   \n",
       "5   100005        89.744                       13.550        59.149   116.344   \n",
       "6   100006       148.754                       28.862       107.782   106.130   \n",
       "7   100007       154.916                       10.418        94.714    29.169   \n",
       "8   100008       105.594                       50.559       100.989     4.288   \n",
       "9   100009       128.053                       88.941        69.272   193.392   \n",
       "\n",
       "   DER_deltaeta_jet_jet  DER_mass_jet_jet  DER_prodeta_jet_jet  \\\n",
       "0                 0.910           124.711                2.666   \n",
       "1              -999.000          -999.000             -999.000   \n",
       "2              -999.000          -999.000             -999.000   \n",
       "3              -999.000          -999.000             -999.000   \n",
       "4              -999.000          -999.000             -999.000   \n",
       "5                 2.636           284.584               -0.540   \n",
       "6                 0.733           158.359                0.113   \n",
       "7              -999.000          -999.000             -999.000   \n",
       "8              -999.000          -999.000             -999.000   \n",
       "9              -999.000          -999.000             -999.000   \n",
       "\n",
       "   DER_deltar_tau_lep  DER_pt_tot  ...    PRI_jet_num  PRI_jet_leading_pt  \\\n",
       "0               3.064      41.928  ...              2              67.435   \n",
       "1               3.473       2.078  ...              1              46.226   \n",
       "2               3.148       9.336  ...              1              44.251   \n",
       "3               3.310       0.414  ...              0            -999.000   \n",
       "4               3.891      16.405  ...              0            -999.000   \n",
       "5               1.362      61.619  ...              3              90.547   \n",
       "6               2.941       2.545  ...              2             123.010   \n",
       "7               2.897       1.526  ...              1              30.638   \n",
       "8               2.904       4.288  ...              0            -999.000   \n",
       "9               1.609      28.859  ...              1             167.735   \n",
       "\n",
       "   PRI_jet_leading_eta  PRI_jet_leading_phi  PRI_jet_subleading_pt  \\\n",
       "0                2.150                0.444                 46.062   \n",
       "1                0.725                1.158               -999.000   \n",
       "2                2.053               -2.028               -999.000   \n",
       "3             -999.000             -999.000               -999.000   \n",
       "4             -999.000             -999.000               -999.000   \n",
       "5               -2.412               -0.653                 56.165   \n",
       "6                0.864                1.450                 56.867   \n",
       "7               -0.715               -1.724               -999.000   \n",
       "8             -999.000             -999.000               -999.000   \n",
       "9               -2.767               -2.514               -999.000   \n",
       "\n",
       "   PRI_jet_subleading_eta  PRI_jet_subleading_phi  PRI_jet_all_pt    Weight  \\\n",
       "0                   1.240                  -2.475         113.497  0.002653   \n",
       "1                -999.000                -999.000          46.226  2.233584   \n",
       "2                -999.000                -999.000          44.251  2.347389   \n",
       "3                -999.000                -999.000          -0.000  5.446378   \n",
       "4                -999.000                -999.000           0.000  6.245333   \n",
       "5                   0.224                   3.106         193.660  0.083414   \n",
       "6                   0.131                  -2.767         179.877  0.002653   \n",
       "7                -999.000                -999.000          30.638  0.018636   \n",
       "8                -999.000                -999.000           0.000  5.296003   \n",
       "9                -999.000                -999.000         167.735  0.001502   \n",
       "\n",
       "   Label  \n",
       "0      s  \n",
       "1      b  \n",
       "2      b  \n",
       "3      b  \n",
       "4      b  \n",
       "5      b  \n",
       "6      s  \n",
       "7      s  \n",
       "8      b  \n",
       "9      s  \n",
       "\n",
       "[10 rows x 33 columns]"
      ]
     },
     "execution_count": 240,
     "metadata": {},
     "output_type": "execute_result"
    }
   ],
   "source": [
    "higgsData[:10]"
   ]
  },
  {
   "cell_type": "markdown",
   "metadata": {},
   "source": [
    "Wow! That was pretty easy, the `read_csv` method understood the input data perfectly"
   ]
  },
  {
   "cell_type": "code",
   "execution_count": 242,
   "metadata": {
    "slideshow": {
     "slide_type": "fragment"
    }
   },
   "outputs": [
    {
     "data": {
      "text/plain": [
       "175.864"
      ]
     },
     "execution_count": 242,
     "metadata": {},
     "output_type": "execute_result"
    }
   ],
   "source": [
    "higgsData[\"DER_mass_MMC\"][4]"
   ]
  },
  {
   "cell_type": "markdown",
   "metadata": {},
   "source": [
    "Further the data has been arranged in a table format, and we can use the data column name as a row selector and normal slice-like notation to select rows"
   ]
  },
  {
   "cell_type": "code",
   "execution_count": 243,
   "metadata": {},
   "outputs": [
    {
     "data": {
      "text/plain": [
       "6    106.130\n",
       "7     29.169\n",
       "8      4.288\n",
       "9    193.392\n",
       "Name: DER_pt_h, dtype: float64"
      ]
     },
     "execution_count": 243,
     "metadata": {},
     "output_type": "execute_result"
    }
   ],
   "source": [
    "higgsData[\"DER_pt_h\"][6:10]"
   ]
  },
  {
   "cell_type": "markdown",
   "metadata": {
    "slideshow": {
     "slide_type": "slide"
    }
   },
   "source": [
    "# Some notable useful loop utilities\n",
    "\n",
    "zip, sequence"
   ]
  },
  {
   "cell_type": "markdown",
   "metadata": {
    "slideshow": {
     "slide_type": "slide"
    }
   },
   "source": [
    "# References and Copies\n",
    "\n",
    "Be aware that in Python the `=` operator does not copy objects, it makes a reference to them:\n"
   ]
  },
  {
   "cell_type": "code",
   "execution_count": 176,
   "metadata": {},
   "outputs": [
    {
     "name": "stdout",
     "output_type": "stream",
     "text": [
      "[0, 1, 'stuck in the middle', 3, 4]\n"
     ]
    }
   ],
   "source": [
    "my_list = list(range(5))\n",
    "your_list = my_list\n",
    "your_list[2] = \"stuck in the middle\"\n",
    "print(my_list)"
   ]
  },
  {
   "cell_type": "code",
   "execution_count": 177,
   "metadata": {},
   "outputs": [
    {
     "name": "stdout",
     "output_type": "stream",
     "text": [
      "4 -- this is the end\n"
     ]
    }
   ],
   "source": [
    "from copy import deepcopy # Deep copy copies the container and copies all objects recursively\n",
    "her_list = deepcopy(my_list)\n",
    "her_list.append(\"this is the end\")\n",
    "print(my_list[-1], \"--\", her_list[-1])"
   ]
  },
  {
   "cell_type": "markdown",
   "metadata": {
    "slideshow": {
     "slide_type": "slide"
    }
   },
   "source": [
    "# First class functions\n",
    "\n",
    "One of Python's great features is that functions are *first class objects*, which means that they can be generated on the fly and returned from other functions:"
   ]
  },
  {
   "cell_type": "markdown",
   "metadata": {
    "slideshow": {
     "slide_type": "slide"
    }
   },
   "source": [
    "# Backup"
   ]
  },
  {
   "cell_type": "markdown",
   "metadata": {
    "slideshow": {
     "slide_type": "slide"
    }
   },
   "source": [
    "## Python2 and Python3\n",
    "\n",
    "* Python is currently finishing a major version transition, from 2 to 3\n",
    "  * Python2 support [stops quite soon](https://pythonclock.org/), on 1 January 2020\n",
    "* Almost every useful python standard module now runs in Python 3, so it's the recommended way to start any new project\n",
    "* Python 3...\n",
    "  * Introduces a new `print()` function instead of the old Python2 `print` *statement*\n",
    "  * Integer division (`3/2`) will return a float (use `3//2` if you want pure rounded int division)\n",
    "  * Strings in Python3 are all *unicode* and pure data should be stored in `bytes` or `bytearray`\n",
    "  * `range` becomes an iterator by default and there is no `xrange` (use `list(range(...))` to get a list if you need it)\n",
    "  * Exceptions are raised more consistently (`raise IOError(\"disk drive on fire\")`)\n",
    "    * And handled more easily using `as` (`except NameError as err`)\n",
    "  * Oh, and Python3 is often a lot faster as well"
   ]
  },
  {
   "cell_type": "markdown",
   "metadata": {
    "slideshow": {
     "slide_type": "slide"
    }
   },
   "source": [
    "## Python3 and HEP\n",
    "\n",
    "* However... although Python3 is now the standard, in the HEP community we are a bit behind\n",
    "  * You may therefore find you have to use Python2 for some HEP usecases\n",
    "  * In which case you should definiately take a look at the `__future__` module that can allow you to write Python2 code using a lot of Python3 syntax in advance\n",
    "\n",
    "```py\n",
    "lxplus015:~$ python\n",
    "Python 2.7.5 (default, Jul 13 2018, 13:06:57) \n",
    "[GCC 4.8.5 20150623 (Red Hat 4.8.5-28)] on linux2\n",
    "Type \"help\", \"copyright\", \"credits\" or \"license\" for more information.\n",
    ">>> print(\"hello, world!\") # Actually this is also ok in Python2.7\n",
    "hello, world!\n",
    ">>> 3/2\n",
    "1\n",
    ">>> from __future__ import division\n",
    ">>> 3/2\n",
    "1.5\n",
    "```\n"
   ]
  },
  {
   "cell_type": "markdown",
   "metadata": {
    "slideshow": {
     "slide_type": "slide"
    }
   },
   "source": [
    "## Getting notebooks up and running\n",
    "\n",
    "We pointed out some of the great features of notebooks at the start, here are some pointers...\n",
    "\n",
    "* The [Project Jupyter website](https://jupyter.org/) (see [install](https://jupyter.org/install))\n",
    "\n",
    "The easy ways to install are through the Anaconda python distribution or using pip\n",
    "\n",
    "Then you can clone this lecture and start the notebook server...\n",
    "\n",
    "```\n",
    "git clone ...\n",
    "jupyter notebook\n",
    "[I 18:55:02.119 NotebookApp] Serving notebooks from local directory: /Users/graemes/docs\n",
    "[I 18:55:02.120 NotebookApp] The Jupyter Notebook is running at:\n",
    "[I 18:55:02.120 NotebookApp] http://localhost:8888/?token=bd9fb3599d7b4f7bf23a53efd8987cf3cc8dc1fe4d358eb6\n",
    "```\n",
    "\n",
    "...and navigate to the notebook link given (usually it starts automatically)"
   ]
  },
  {
   "cell_type": "code",
   "execution_count": null,
   "metadata": {},
   "outputs": [],
   "source": []
  }
 ],
 "metadata": {
  "celltoolbar": "Slideshow",
  "kernelspec": {
   "display_name": "Python 3",
   "language": "python",
   "name": "python3"
  },
  "language_info": {
   "codemirror_mode": {
    "name": "ipython",
    "version": 3
   },
   "file_extension": ".py",
   "mimetype": "text/x-python",
   "name": "python",
   "nbconvert_exporter": "python",
   "pygments_lexer": "ipython3",
   "version": "3.6.5"
  }
 },
 "nbformat": 4,
 "nbformat_minor": 2
}
